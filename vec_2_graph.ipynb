{
 "cells": [
  {
   "cell_type": "markdown",
   "metadata": {},
   "source": [
    "# TODO\n",
    "1. Compare small (384) vs large (768) embedding vectors.\n",
    "2. Tune the number of Annoy trees.\n",
    "3. More exploration with community detection algorithms.\n",
    "4. When fine-tuning the SimCSE model, experiment with max-pooling rather than CLS-pooling.\n",
    "5. Should we always keen theme-level tokens in our dictionary?"
   ]
  },
  {
   "cell_type": "code",
   "execution_count": 1,
   "metadata": {},
   "outputs": [],
   "source": [
    "RANDOM_SEED = 42                 # For repeatable experiments\n",
    "REBUILD = True                   # Set to TRUE to force a rebuild of the core transformer, embeddings, Annoy index and sim-graph\n",
    "\n",
    "# Data extraction\n",
    "PROJECT_SAMPLE_SIZE = 100000     # The number of source tweets we'll retrieve\n",
    "\n",
    "# Pre-processing \n",
    "MAX_HASHTAGS_BEFORE_REMOVAL = 0  # If there are more than this many hashtags in a tweet, remove them all.\n",
    "\n",
    "# Dictionary-building\n",
    "MIN_TOKEN_COUNT = 20             # Minimum # token occurances for a dictionary entry\n",
    "MAX_TOKEN_FREQ = 0.25            # When building the token dictionary, any token appearing in more than this % of documents is pruned\n",
    "\n",
    "# Fine-tuning\n",
    "N_TRAINING_EPOCHS = 2            # Number of epochs of fine-tuning for the transformer.\n",
    "MAX_SEQ_LEN = 100                # Large enough for the vast majority of tweets.\n",
    "\n",
    "# Indexing\n",
    "NUM_ANNOY_TREES = 1              # How many NN trees to build.  More trees = more accurate recall.\n",
    "\n",
    "# Topic Graph\n",
    "MIN_SIM_SCORE = 0.45             # Minimum similarity between embedding vectors to yield an edge in the topic graph.\n",
    "MIN_CLUSTER_SIZE = 20            # Discard topic clusters with fewer than this number of members.\n",
    "\n",
    "# Rule generation\n",
    "RULE_UNDERSAMPLING_RATIO = 0.1   # When extracting rules, under-sample negative values according to this ratio.\n",
    "NUM_TERMS_TO_CONSIDER = 20       # When generating rules, start with a subset of this many tokens.\n",
    "MIN_EXAMPLES_PER_RULE = 20       # Each subrule needs to match at least this many positive examples.\n",
    "MIN_CONFIDENCE = 0.9             # Minimum confidence of a subrule if it is to be returned.\n",
    "MAX_FREQ_TOKENSET_SIZE = 100     # Build frequent tokensets no larger than this.\n",
    "MAX_SUBRULE_ATTEMPTS = 20        # Cap on the number of attempts to build subrules."
   ]
  },
  {
   "cell_type": "code",
   "execution_count": 2,
   "metadata": {},
   "outputs": [],
   "source": [
    "DATASET_METADATA = {\n",
    "    'NAME':       'PartyGate vs. Cost of Living (UK Decision-Makers)',\n",
    "    'PROJECT_ID': 71,\n",
    "    'FROM_DATE':  '2022-05-08',\n",
    "    'TO_DATE':    '2022-06-09',\n",
    "    'SOURCE':     \"extract_uk_decision_makers_partygate_9\"\n",
    "}"
   ]
  },
  {
   "cell_type": "code",
   "execution_count": 3,
   "metadata": {},
   "outputs": [],
   "source": [
    "import seaborn as sns\n",
    "\n",
    "sns.set(rc={'figure.figsize':(20,10)})\n",
    "\n",
    "import pandas as pd\n",
    "\n",
    "pd.set_option('display.max_colwidth', 150)"
   ]
  },
  {
   "cell_type": "code",
   "execution_count": 4,
   "metadata": {},
   "outputs": [],
   "source": [
    "db_config = {\n",
    "    'host':      \"localhost\", \n",
    "    'port':      5432, \n",
    "    'database':  \"deepseer\", \n",
    "    'user':      \"tweetypy\", \n",
    "    #'password':  \"wQ121zvYWympD2dC25kP\" # UAT\n",
    "    'password':  \"dwJa37s67418tzeS\" # PROD\n",
    "}"
   ]
  },
  {
   "cell_type": "markdown",
   "metadata": {},
   "source": [
    "# Load Raw Data\n",
    "\n",
    "If we can find a previously extracted raw dataset with the right name, then load that; otherwise extract the data from Aurora."
   ]
  },
  {
   "cell_type": "code",
   "execution_count": 5,
   "metadata": {},
   "outputs": [],
   "source": [
    "import psycopg2\n",
    "import numpy as np\n",
    "import warnings\n",
    "import pandas as pd\n",
    "\n",
    "def extract_data_from_aurora(DATASET_METADATA):\n",
    "    \n",
    "    with warnings.catch_warnings():\n",
    "        warnings.simplefilter(\"ignore\")\n",
    "\n",
    "        with psycopg2.connect(**db_config) as conn:\n",
    "            df = pd.read_sql(f\"\"\"\n",
    "                select \n",
    "                    distinct source_tweet_text\n",
    "                from \n",
    "                    deepseer_tweets.{DATASET_METADATA['SOURCE']}\n",
    "                where \n",
    "                    {DATASET_METADATA['PROJECT_ID']} = any(relevant_projects)\n",
    "                    and created_at between '{DATASET_METADATA['FROM_DATE']}'::timestamp and '{DATASET_METADATA['TO_DATE']}'::timestamp\n",
    "                limit \n",
    "                    {PROJECT_SAMPLE_SIZE}\n",
    "            \"\"\", conn)    \n",
    "    \n",
    "    return df"
   ]
  },
  {
   "cell_type": "code",
   "execution_count": 6,
   "metadata": {},
   "outputs": [
    {
     "name": "stdout",
     "output_type": "stream",
     "text": [
      "Dataset contains [100000] rows.\n"
     ]
    }
   ],
   "source": [
    "try:\n",
    "    df = pd.read_csv(f\"./data/raw/{DATASET_METADATA['NAME']}.csv\").dropna()\n",
    "except FileNotFoundError:\n",
    "    df = extract_data_from_aurora(DATASET_METADATA)\n",
    "    df.to_csv(f\"./data/raw/{DATASET_METADATA['NAME']}.csv\", index=False)\n",
    "\n",
    "print(f\"Dataset contains [{df.shape[0]}] rows.\")"
   ]
  },
  {
   "cell_type": "markdown",
   "metadata": {},
   "source": [
    "# Data Preprocessing\n",
    "\n",
    "We do a number of things here:\n",
    "\n",
    "1. Minimally clean the data, making it suitable for BERT finetuning.\n",
    "2. Tokenize the data, for use in narrative rule generation.\n",
    "3. Map the tokens to a dictionary and compute the bag-of-words representation for each tweet."
   ]
  },
  {
   "cell_type": "markdown",
   "metadata": {},
   "source": [
    "### Strip URLs\n",
    "\n",
    "First find all of the t.co URLs and place them into a new column.  Remove them from the tweet text."
   ]
  },
  {
   "cell_type": "code",
   "execution_count": 7,
   "metadata": {},
   "outputs": [],
   "source": [
    "import re\n",
    "\n",
    "URLS_RE = re.compile(r\"http[s]?://(?:[a-zA-Z]|[0-9]|[$-_@.&+]|[!*\\(\\),]|(?:%[0-9a-fA-F][0-9a-fA-F]))+\")\n",
    "\n",
    "df['urls'] = df.source_tweet_text.apply(URLS_RE.findall)"
   ]
  },
  {
   "cell_type": "code",
   "execution_count": 8,
   "metadata": {},
   "outputs": [],
   "source": [
    "# Remove the URLs from the tweet text\n",
    "\n",
    "def remove_urls(row):\n",
    "    source_tweet_text = row.source_tweet_text\n",
    "    for u in row.urls:\n",
    "         source_tweet_text = source_tweet_text.replace(u, '')\n",
    "    return source_tweet_text.strip()\n",
    "\n",
    "df.source_tweet_text = df.apply(remove_urls, axis='columns')"
   ]
  },
  {
   "cell_type": "markdown",
   "metadata": {},
   "source": [
    "### Basic Text Preprocessing"
   ]
  },
  {
   "cell_type": "code",
   "execution_count": 9,
   "metadata": {},
   "outputs": [],
   "source": [
    "from textacy import preprocessing\n",
    "from functools import partial\n",
    "\n",
    "replace_user_handles = partial(preprocessing.replace.user_handles, repl='')\n",
    "replace_urls = partial(preprocessing.replace.urls, repl='')\n",
    "replace_hashtags = partial(preprocessing.replace.hashtags, repl='')\n",
    "remove_ampersand = lambda text: text.replace('&amp', '')\n",
    "remove_newline = lambda text: text.replace('\\n', ' ')\n",
    "replace_emojis = partial(preprocessing.replace.emojis, repl='')\n",
    "delete_chars = lambda text: text.replace(\"'\", \"\").replace(\"-\", \"\")\n",
    "\n",
    "# def remove_at_mentions(text):\n",
    "#     tokens = text.split(' ')\n",
    "#     filtered_tokens = [t for t in tokens if not t[0] == '@']\n",
    "#     return ' '.join(tokens)\n",
    "\n",
    "preproc = preprocessing.make_pipeline(\n",
    "    preprocessing.normalize.bullet_points,\n",
    "    preprocessing.normalize.quotation_marks,\n",
    "    preprocessing.normalize.whitespace,\n",
    "    preprocessing.normalize.unicode,\n",
    "    preprocessing.remove.accents,\n",
    "    replace_urls,\n",
    "    remove_ampersand,\n",
    "    delete_chars,    \n",
    "    replace_user_handles,\n",
    "    preprocessing.remove.punctuation,    \n",
    "    replace_emojis,\n",
    "    remove_newline,\n",
    "    preprocessing.remove.brackets,\n",
    "    preprocessing.normalize.whitespace\n",
    ")\n",
    "\n",
    "preproc_no_hashtags = preprocessing.make_pipeline(\n",
    "    preprocessing.normalize.bullet_points,\n",
    "    preprocessing.normalize.quotation_marks,\n",
    "    preprocessing.normalize.whitespace,\n",
    "    preprocessing.normalize.unicode,\n",
    "    preprocessing.remove.accents,\n",
    "    replace_urls,\n",
    "    remove_ampersand,    \n",
    "    # Replace hashtags with the empty string before we handle punctuation\n",
    "    replace_hashtags,\n",
    "    replace_user_handles,\n",
    "    delete_chars,\n",
    "    preprocessing.remove.punctuation,\n",
    "    replace_emojis,\n",
    "    remove_newline,\n",
    "    preprocessing.remove.brackets,\n",
    "    preprocessing.normalize.whitespace\n",
    ")"
   ]
  },
  {
   "cell_type": "code",
   "execution_count": 10,
   "metadata": {},
   "outputs": [],
   "source": [
    "def preprocess(text, hashtag_threshold=MAX_HASHTAGS_BEFORE_REMOVAL):\n",
    "    if text.count(\"#\") > hashtag_threshold:\n",
    "        return preproc_no_hashtags(text)\n",
    "    else:\n",
    "        return preproc(text)"
   ]
  },
  {
   "cell_type": "code",
   "execution_count": 11,
   "metadata": {},
   "outputs": [],
   "source": [
    "df['preprocessed_text'] = [preprocess(t) for t in df.source_tweet_text.values]"
   ]
  },
  {
   "cell_type": "code",
   "execution_count": 15,
   "metadata": {
    "tags": []
   },
   "outputs": [
    {
     "name": "stdout",
     "output_type": "stream",
     "text": [
      "Deduplicated dataset contains [90787] rows.\n"
     ]
    }
   ],
   "source": [
    "# Preprocessing will result in duplicates appearing.  We'll deduplicate here.\n",
    "df = df[['preprocessed_text']].drop_duplicates()\n",
    "df = df[~df.preprocessed_text.isna()]\n",
    "print(f\"Deduplicated dataset contains [{df.shape[0]}] rows.\")"
   ]
  },
  {
   "cell_type": "code",
   "execution_count": 16,
   "metadata": {
    "tags": []
   },
   "outputs": [],
   "source": [
    "# Add an ID column to make it easier to reference the rows later.\n",
    "df['id'] = range(df.shape[0])"
   ]
  },
  {
   "cell_type": "code",
   "execution_count": 17,
   "metadata": {},
   "outputs": [],
   "source": [
    "# We'll use this number repeatedly\n",
    "n_docs = df.shape[0]"
   ]
  },
  {
   "cell_type": "markdown",
   "metadata": {},
   "source": [
    "### Tokenize and Stem the tweets"
   ]
  },
  {
   "cell_type": "code",
   "execution_count": 18,
   "metadata": {},
   "outputs": [],
   "source": [
    "from gensim.parsing.porter import PorterStemmer\n",
    "from gensim.parsing.preprocessing import remove_stopwords\n",
    "\n",
    "stemmer = PorterStemmer()\n",
    "\n",
    "def tokenize(text):\n",
    "    for word in remove_stopwords(text).split(' '):\n",
    "        yield stemmer.stem(word)"
   ]
  },
  {
   "cell_type": "code",
   "execution_count": 19,
   "metadata": {},
   "outputs": [],
   "source": [
    "df['tokenized'] = df.preprocessed_text.apply(lambda text: list(tokenize(text)))"
   ]
  },
  {
   "cell_type": "code",
   "execution_count": 20,
   "metadata": {},
   "outputs": [
    {
     "name": "stdout",
     "output_type": "stream",
     "text": [
      "Unfiltered dct has 40435 entries.\n",
      "Filtered dct has 5663 entries.\n"
     ]
    }
   ],
   "source": [
    "from gensim.models.tfidfmodel import TfidfModel\n",
    "from gensim.corpora import Dictionary\n",
    "\n",
    "dct = Dictionary(df.tokenized)\n",
    "\n",
    "print(f\"Unfiltered dct has {len(dct)} entries.\")\n",
    "\n",
    "dct.filter_extremes(\n",
    "    no_below=MIN_TOKEN_COUNT, \n",
    "    no_above=MAX_TOKEN_FREQ, \n",
    "    # TODO: should we keep theme-level tokens?\n",
    "    #keep_tokens=???\n",
    ")\n",
    "\n",
    "print(f\"Filtered dct has {len(dct)} entries.\")\n",
    "\n",
    "df['bow'] = df.tokenized.apply(dct.doc2bow)\n",
    "\n",
    "# n.b. use of the 'bnn' value means we evaluate TF=Binary, IDF=None, Normalisation=None\n",
    "# Therefore we have essentially just computed the Binary Term Frequencies\n",
    "tfidf_model = TfidfModel(df.bow.values.tolist(), smartirs='bnn')\n",
    "\n",
    "# Since the values are all 1 we just need the token keys\n",
    "df['btf'] = df.bow.apply(lambda x: [token_key for token_key, btf in tfidf_model[x]])"
   ]
  },
  {
   "cell_type": "code",
   "execution_count": 21,
   "metadata": {},
   "outputs": [],
   "source": [
    "# Vocabulary size\n",
    "V = len(dct.items())"
   ]
  },
  {
   "cell_type": "code",
   "execution_count": 22,
   "metadata": {},
   "outputs": [
    {
     "data": {
      "text/plain": [
       "'40'"
      ]
     },
     "execution_count": 22,
     "metadata": {},
     "output_type": "execute_result"
    }
   ],
   "source": [
    "# Weird bug in Gensim.  Dictionary doesn't initialise properly unless we address it first!\n",
    "dct[0]"
   ]
  },
  {
   "cell_type": "markdown",
   "metadata": {},
   "source": [
    "### Function `calc_tfidf`\n",
    "\n",
    "Construct a TF-IDF matix.  We'll use this function later on.\n",
    "\n",
    "Actually this is a binary-term matrix, so each value is a $1$ or a $0$.\n",
    "\n",
    "We could modify this code to generate a sparse matrix instead.  The SVD algorithm will support that."
   ]
  },
  {
   "cell_type": "code",
   "execution_count": 23,
   "metadata": {},
   "outputs": [],
   "source": [
    "from scipy.sparse import coo_matrix\n",
    "from itertools import count\n",
    "\n",
    "def calc_tfidf(df, print_=True):\n",
    "\n",
    "    data = [1] * sum([len(vec) for vec in df.btf])\n",
    "    j = [token_key for vec in df.btf for token_key in vec]\n",
    "    i = [idx for idx, vec in zip(count(), df.btf) for token_key in vec]\n",
    "\n",
    "    Z = coo_matrix((data, (i,j)))\n",
    "\n",
    "    if print_:\n",
    "        print(f\"TF-IDF matrix has dimensions: {Z.shape}\")\n",
    "        \n",
    "    return Z.todense()"
   ]
  },
  {
   "cell_type": "markdown",
   "metadata": {},
   "source": [
    "# Embedding"
   ]
  },
  {
   "cell_type": "markdown",
   "metadata": {},
   "source": [
    "## Finetune the SimCSE transformer"
   ]
  },
  {
   "cell_type": "markdown",
   "metadata": {},
   "source": [
    "The SimCSE model (https://arxiv.org/abs/2104.08821) works as follows:\n",
    "\n",
    "1. Start with a pretrained BERT transformer model to obtain fixed-dimensional word embeddings.  We use DistilRoBERTa (https://huggingface.co/docs/transformers/model_doc/distilbert) as the base. This is based on the RoBERTa model which only trains against the Masked Language Model (MLM) objective.  Dropout is set to 0.1 as standard.\n",
    "2. Stack a mean-pooling layer on top.  (The `all-distilroberta-v1` model was trained using mean-pooling, not the CLS token, to generate document embeddings.)\n",
    "3. Training examples consist of pairs of the same document (dropout masks are be applied separately, and randomly, to each item in a pair).\n",
    "4. Use the Multiple Negatives Ranking (MNR) Loss.  For example $x_i$ in a batch of $K$ input pairs the loss function evaluates:\n",
    "\n",
    "\\begin{align}\n",
    "\\mathcal{l}_i &= - \\text{log } \\mathbf{P}\\left(x_i | x_i\\right) \\\\\n",
    "& \\approx -\\text{log } \\left( \\frac{e^{\\text{sim}\\left(z_i^{\\left(1\\right)}, z_i^{\\left(2\\right)}\\right)}}{\\sum_{k=1}^{K}e^{\\text{sim}\\left(z_i^{\\left(1\\right)}, z_k^{\\left(2\\right)}\\right)}} \\right) \\\\\n",
    "&\\approx -\\text{sim}\\left(z_i^{\\left(1\\right)}, z_i^{\\left(2\\right)}\\right) + \\text{log } \\left(\\sum_{k=1}^{K}e^{\\text{sim}\\left(z_i^{\\left(1\\right)}, z_k^{\\left(2\\right)}\\right)} \\right)\n",
    "\\end{align}\n",
    "Where $\\text{sim}$ is the cosine similarity function, $z_i$ is the mean-embedding vector for example $x_i$ and the superscripts $z_i^{\\left(1\\right)}$ and $z_i^{\\left(2\\right)}$ denote the dropout masks applied to the first and second elements of the input pair, respectively.  (MNR loss is therefore effectively just a form of cross-entropy loss.)"
   ]
  },
  {
   "cell_type": "code",
   "execution_count": 313,
   "metadata": {
    "tags": []
   },
   "outputs": [],
   "source": [
    "from sentence_transformers import SentenceTransformer, InputExample\n",
    "from sentence_transformers import models, losses\n",
    "from torch.utils.data import DataLoader\n",
    "\n",
    "def finetune_simcse(DATASET_METADATA):\n",
    "\n",
    "    # Cased version of DistilRoBERTa.\n",
    "    model_name = 'sentence-transformers/all-distilroberta-v1'\n",
    "\n",
    "    word_embedding_model = models.Transformer(model_name, max_seq_length=32)\n",
    "\n",
    "    pooling_model = models.Pooling(\n",
    "        word_embedding_dimension=word_embedding_model.get_word_embedding_dimension(),\n",
    "        pooling_mode='mean'\n",
    "    )\n",
    "\n",
    "    model = SentenceTransformer(modules=[word_embedding_model, pooling_model])\n",
    "\n",
    "    # SimCSE uses masked pairs of inputs.\n",
    "    train_data = [InputExample(texts=[doc, doc]) for doc in df.preprocessed_text.to_numpy()]\n",
    "\n",
    "    # Batch the data.  Larger batches make the MNR loss more accurate.\n",
    "    # Shuffling super-important, otherwise the MNR loss will not work \n",
    "    # (because we risk near identical tweets appearing next to each other in the dataset).\n",
    "    train_dataloader = DataLoader(train_data, batch_size=128, shuffle=True)\n",
    "\n",
    "    train_loss = losses.MultipleNegativesRankingLoss(model)\n",
    "    \n",
    "    model.fit(\n",
    "        train_objectives=[(train_dataloader, train_loss)],\n",
    "        epochs=N_TRAINING_EPOCHS,\n",
    "        show_progress_bar=True\n",
    "    )\n",
    "    \n",
    "    model.save(f\"./transformers/model_[{DATASET_METADATA['NAME']}]\")\n",
    "    \n",
    "    return model"
   ]
  },
  {
   "cell_type": "code",
   "execution_count": 314,
   "metadata": {},
   "outputs": [
    {
     "name": "stdout",
     "output_type": "stream",
     "text": [
      "Fine-tuning using SimCSE task\n"
     ]
    },
    {
     "data": {
      "application/vnd.jupyter.widget-view+json": {
       "model_id": "6fa476c742d74fc29a54e917ece6ef40",
       "version_major": 2,
       "version_minor": 0
      },
      "text/plain": [
       "Epoch:   0%|          | 0/2 [00:00<?, ?it/s]"
      ]
     },
     "metadata": {},
     "output_type": "display_data"
    },
    {
     "data": {
      "application/vnd.jupyter.widget-view+json": {
       "model_id": "fe12feeb434c43178db2962e8d4a7410",
       "version_major": 2,
       "version_minor": 0
      },
      "text/plain": [
       "Iteration:   0%|          | 0/710 [00:00<?, ?it/s]"
      ]
     },
     "metadata": {},
     "output_type": "display_data"
    },
    {
     "data": {
      "application/vnd.jupyter.widget-view+json": {
       "model_id": "979d802e1ad841bdab0a8eb61ac7d545",
       "version_major": 2,
       "version_minor": 0
      },
      "text/plain": [
       "Iteration:   0%|          | 0/710 [00:00<?, ?it/s]"
      ]
     },
     "metadata": {},
     "output_type": "display_data"
    }
   ],
   "source": [
    "# Load or finetune a SimCSE model\n",
    "\n",
    "from sentence_transformers import SentenceTransformer\n",
    "\n",
    "try:\n",
    "    if REBUILD:\n",
    "        raise ValueError()\n",
    "    else:\n",
    "        print(\"Loading transformer model\")\n",
    "        model = SentenceTransformer(f\"./transformers/model_[{DATASET_METADATA['NAME']}]\")\n",
    "except ValueError:\n",
    "    print(\"Fine-tuning using SimCSE task\")    \n",
    "    model = finetune_simcse(DATASET_METADATA)"
   ]
  },
  {
   "cell_type": "markdown",
   "metadata": {
    "tags": []
   },
   "source": [
    "## Generate the embeddings\n",
    "\n",
    "We wrap the document embeddings in Gensim's `KeyedVectors` class.  This is because the next step (indexing) expects this."
   ]
  },
  {
   "cell_type": "code",
   "execution_count": 315,
   "metadata": {},
   "outputs": [
    {
     "name": "stdout",
     "output_type": "stream",
     "text": [
      "Generating Embedding\n"
     ]
    },
    {
     "data": {
      "application/vnd.jupyter.widget-view+json": {
       "model_id": "907dce9cc9f341bdae4acb4162993875",
       "version_major": 2,
       "version_minor": 0
      },
      "text/plain": [
       "Batches:   0%|          | 0/2838 [00:00<?, ?it/s]"
      ]
     },
     "metadata": {},
     "output_type": "display_data"
    }
   ],
   "source": [
    "# Gensim's Annoy API requires the use of keyed vectors. \n",
    "from gensim.models.keyedvectors import KeyedVectors\n",
    "\n",
    "try:\n",
    "    if REBUILD:\n",
    "        raise FileNotFoundError()\n",
    "    else:\n",
    "        print(\"Loading Embedding\")        \n",
    "        embedding = KeyedVectors.load(f\"./embeddings/{DATASET_METADATA['NAME']}__x768\")\n",
    "except FileNotFoundError:\n",
    "    print(\"Generating Embedding\")\n",
    "    embedding = KeyedVectors(model[1].word_embedding_dimension)\n",
    "    embedding.add_vectors(\n",
    "        keys=range(n_docs),\n",
    "        weights=model.encode(\n",
    "            df.preprocessed_text.to_numpy(), \n",
    "            show_progress_bar=True, \n",
    "            convert_to_numpy=True, \n",
    "            device='cuda'\n",
    "        )\n",
    "    )\n",
    "    embedding.save(f\"./embeddings/{DATASET_METADATA['NAME']}__x768\")"
   ]
  },
  {
   "cell_type": "markdown",
   "metadata": {},
   "source": [
    "# Similarity Search\n",
    "\n",
    "We proceed as follows:\n",
    "\n",
    "Construct an efficient index for performing similarity search over our embedding vectors.  I have chosen Approximate Nearest Neighbours (A-NN), implemented by the `annoy` package (https://github.com/spotify/annoy), which comes packaged with `gensim`.  It has the following properties:\n",
    "  1. It is stochastic (i.e. it doesn't guarantee the same - or a complete - similarity set each time you run it).  However, given subsequent steps this should have minimal impact on the clustering results.\n",
    "  2. `annoy`, specifically, is fast - making it well suited to prototyping.\n",
    "  3. Nearest Neighbours, in general, is simple.  For implementing at scale we might want to compare A-NN with Locality Sensitive Hashing.\n",
    "  4. The default distance metric used by `annoy` is Cosine similarity, which is the same metric as was used during SimCSE training.  It'll also perform better than, say the Euclidean distance on a length 768 dense vector."
   ]
  },
  {
   "cell_type": "code",
   "execution_count": 316,
   "metadata": {
    "tags": []
   },
   "outputs": [
    {
     "name": "stdout",
     "output_type": "stream",
     "text": [
      "Creating Annoy Index\n"
     ]
    }
   ],
   "source": [
    "from gensim.similarities.annoy import AnnoyIndexer\n",
    "\n",
    "annoy_index = AnnoyIndexer()\n",
    "\n",
    "try:\n",
    "    if REBUILD:\n",
    "        raise OSError()\n",
    "    else:\n",
    "        print(\"Loading Annoy Index\")\n",
    "        annoy_index.load(f\"./annoy_indexes/{DATASET_METADATA['NAME']}.annoy\")\n",
    "except OSError:\n",
    "    print(\"Creating Annoy Index\")\n",
    "    annoy_index = AnnoyIndexer(embedding, num_trees=NUM_ANNOY_TREES)\n",
    "    annoy_index.save(f\"./annoy_indexes/{DATASET_METADATA['NAME']}.annoy\")"
   ]
  },
  {
   "cell_type": "markdown",
   "metadata": {},
   "source": [
    "### Exploratory test: use the index to find examples of similar documents."
   ]
  },
  {
   "cell_type": "code",
   "execution_count": 317,
   "metadata": {
    "tags": []
   },
   "outputs": [],
   "source": [
    "import numpy as np\n",
    "from tqdm import tqdm\n",
    "\n",
    "def most_similar_to_random_tweet(df, embedding, annoy_index, min_sim_score, min_matches=1, n_trials=100):\n",
    "    for i in tqdm(range(n_trials)):\n",
    "        doc_id = np.random.choice(df.shape[0])\n",
    "        vector = embedding.get_vector(doc_id)\n",
    "        dists = embedding.most_similar([vector], indexer=annoy_index)\n",
    "        dists = [(doc_id, score) for doc_id, score in dists if score >= min_sim_score and score < 1.0]\n",
    "        \n",
    "        if len(dists) >= min_matches:\n",
    "            print(df.preprocessed_text.values[doc_id])\n",
    "            print(\"+++\")            \n",
    "            \n",
    "            for doc_id, score in dists:\n",
    "                doc_id = int(doc_id)\n",
    "                print(df.preprocessed_text.values[doc_id])\n",
    "                print(score)\n",
    "                print(\"***\")\n",
    "            return None\n",
    "    print(f\"{n_trials} tweets sampled but none had >= {min_matches} matches with score >= {min_sim_score}.\")"
   ]
  },
  {
   "cell_type": "code",
   "execution_count": 318,
   "metadata": {
    "tags": []
   },
   "outputs": [
    {
     "name": "stderr",
     "output_type": "stream",
     "text": [
      "  0%|                                                                                                                               | 0/100 [00:00<?, ?it/s]"
     ]
    },
    {
     "name": "stdout",
     "output_type": "stream",
     "text": [
      "A person called Nawaz sharif sitting in the UK has stolen billions of dollars from the Pakistani people The UK is a hub of illgotten wealth\n",
      "+++\n",
      "UK is one of the biggest beneficiary of LOOTED WEALTH of CORRUPT POLITICIANS of Pakistan plus assisting them in money laundering and legal protection lets not even start on MI6 terrorism in Karachi via Altaf Hussain for decades\n",
      "0.4911448359489441\n",
      "***\n",
      "The people of UK stole trillions of dollars of wealth from india and your aid is worth peanuts\n",
      "0.48560696840286255\n",
      "***\n",
      "Bought and paid for by UK taxpayers money you globalist fraud\n",
      "0.46781784296035767\n",
      "***\n",
      "You harbor criminals and money launderers for their stolen money Shame on UK govt\n",
      "0.45808184146881104\n",
      "***\n",
      "Lousy hypocrite You do NOTHING for the British people except WASTE our money steal it by inflation Scoundrel of the worst kind\n",
      "0.4579402804374695\n",
      "***\n",
      "Shehbaz shareef is imported corrupt PM imposed on us And his bro NS is corrupt stole our money and hiding in UK Both have nothing to do with pk\n",
      "0.4504718780517578\n",
      "***\n",
      "Actually you british people are the facilitators of these thieves and looters\n",
      "0.44354790449142456\n",
      "***\n",
      "Where did you get the billions of pounds you are now giving Ukraine when you have no money for British pensioners and low paid or people on benefits\n",
      "0.4403666853904724\n",
      "***\n",
      "Would be nice if youd stop sending tax payers cash to Pakistan as well as stopping their people coming to Britain too\n",
      "0.42999714612960815\n",
      "***\n"
     ]
    },
    {
     "name": "stderr",
     "output_type": "stream",
     "text": [
      "\n"
     ]
    }
   ],
   "source": [
    "most_similar_to_random_tweet(df, embedding, annoy_index, 0.4, 2, 100)"
   ]
  },
  {
   "cell_type": "markdown",
   "metadata": {},
   "source": [
    "# Build the Similarity Graph\n",
    "\n",
    "Construct a graph where vertices are tweets and edges represent index similarity (for closely related tweets)."
   ]
  },
  {
   "cell_type": "code",
   "execution_count": 319,
   "metadata": {},
   "outputs": [],
   "source": [
    "from tqdm import tqdm\n",
    "import networkx as nx\n",
    "from networkx import NetworkXError\n",
    "\n",
    "def generate_graph(word_vectors, index, min_sim_score=0.5):\n",
    "    \n",
    "    # Edge iterator for the graph\n",
    "    def gen_edges():\n",
    "\n",
    "        for src_id in tqdm(range(len(word_vectors.index_to_key))):       \n",
    "            vector = word_vectors.get_vector(src_id)\n",
    "            dists = word_vectors.most_similar([vector], indexer=index)\n",
    "\n",
    "            for tgt_id, score in dists:\n",
    "                if int(tgt_id) > src_id and score > min_sim_score:\n",
    "                    yield (src_id, int(tgt_id), score)\n",
    "                    \n",
    "    \n",
    "    G = nx.Graph()\n",
    "\n",
    "    # Add edges.\n",
    "    for i,j,w in gen_edges():\n",
    "        G.add_edge(i, j, weight=w)\n",
    "\n",
    "    # Now remove self-edges. (Every document is most similar to itself, but this is not interesting.)\n",
    "    G.remove_edges_from(nx.selfloop_edges(G))    \n",
    "    \n",
    "    for idx, doc in tqdm(enumerate(df.preprocessed_text)):\n",
    "        G.add_node(idx, tokens=doc)\n",
    "\n",
    "    print(f\"Vertices: [{G.number_of_nodes()}], Edges: [{G.number_of_edges()}]\")\n",
    "\n",
    "    G.remove_nodes_from(list(nx.isolates(G)))\n",
    "    print(f\"After dropping singletons: Vertices: [{G.number_of_nodes()}], Edges: [{G.number_of_edges()}]\")    \n",
    "    \n",
    "    return G"
   ]
  },
  {
   "cell_type": "code",
   "execution_count": 320,
   "metadata": {
    "tags": []
   },
   "outputs": [
    {
     "name": "stdout",
     "output_type": "stream",
     "text": [
      "Generating Graph\n"
     ]
    },
    {
     "name": "stderr",
     "output_type": "stream",
     "text": [
      "100%|███████████████████████████████████████████████████████████████████████████████████████████████████████████████| 90787/90787 [01:04<00:00, 1406.63it/s]\n",
      "90787it [00:00, 731465.06it/s]\n"
     ]
    },
    {
     "name": "stdout",
     "output_type": "stream",
     "text": [
      "Vertices: [90787], Edges: [169810]\n",
      "After dropping singletons: Vertices: [61079], Edges: [169810]\n"
     ]
    }
   ],
   "source": [
    "import networkx as nx\n",
    "\n",
    "try:\n",
    "    if REBUILD:\n",
    "        raise FileNotFoundError()\n",
    "    else:\n",
    "        print(\"Loading Graph\")\n",
    "        G = nx.readwrite.gpickle.read_gpickle(f\"./graphs/{DATASET_METADATA['NAME']}_networkx.gpickle\")\n",
    "except FileNotFoundError:\n",
    "    print(\"Generating Graph\")\n",
    "    G = generate_graph(embedding, annoy_index, min_sim_score=MIN_SIM_SCORE)\n",
    "    nx.readwrite.gpickle.write_gpickle(G, f\"./graphs/{DATASET_METADATA['NAME']}_networkx.gpickle\")"
   ]
  },
  {
   "cell_type": "markdown",
   "metadata": {},
   "source": [
    "# Find Clusters of Similar Tweets\n",
    "\n",
    "Using one of my \"go-to\" community detection methods, Label Propagation (https://arxiv.org/abs/0803.0476).  Selected because it is fast and there is a simple-to-implement version for large graphs in a distributed setting, which would help us with productionisation."
   ]
  },
  {
   "cell_type": "markdown",
   "metadata": {},
   "source": [
    "### Label Propogation"
   ]
  },
  {
   "cell_type": "code",
   "execution_count": 321,
   "metadata": {},
   "outputs": [],
   "source": [
    "from cdlib.algorithms import label_propagation\n",
    "from collections import namedtuple\n",
    "from tqdm import tqdm\n",
    "from matplotlib import pyplot as plt\n",
    "import seaborn as sns\n",
    "\n",
    "Metric = namedtuple('Metric', 'C Q r')\n",
    "\n",
    "\n",
    "def cluster_label_propogation(G, verbose=False):\n",
    "\n",
    "    clusters = label_propagation(G)\n",
    "    Q = clusters.newman_girvan_modularity().score\n",
    "    C = len(clusters.communities)\n",
    "\n",
    "    # Singletons are not considered to be clusters and will be removed in subsequent steps.\n",
    "    n_tweets = G.number_of_nodes()\n",
    "    n_clusters = len([c for c in clusters.communities if len(c) > 1])\n",
    "    largest_cluster = max([len(c) for c in clusters.communities])\n",
    "    n_assigned = sum([len(c) for c in clusters.communities if len(c) > 1])\n",
    "    n_unassigned = n_tweets - n_assigned\n",
    "\n",
    "    if verbose:\n",
    "        print(f\"\"\"\n",
    "            There are [{n_tweets}] tweets.\n",
    "            [{n_clusters}] clusters were identified.\n",
    "            The largest has [{largest_cluster}] members.\n",
    "            [{n_assigned}] tweets assigned to a cluster.\n",
    "            [{n_unassigned}] tweets were not assigned to a cluster.\n",
    "            Modularity is {np.round(Q, 2)}.\n",
    "        \"\"\")\n",
    "    \n",
    "    return clusters"
   ]
  },
  {
   "cell_type": "code",
   "execution_count": 322,
   "metadata": {},
   "outputs": [
    {
     "name": "stdout",
     "output_type": "stream",
     "text": [
      "\n",
      "            There are [61079] tweets.\n",
      "            [9225] clusters were identified.\n",
      "            The largest has [439] members.\n",
      "            [61079] tweets assigned to a cluster.\n",
      "            [0] tweets were not assigned to a cluster.\n",
      "            Modularity is 0.77.\n",
      "        \n"
     ]
    }
   ],
   "source": [
    "clusters = cluster_label_propogation(G, verbose=True)"
   ]
  },
  {
   "cell_type": "markdown",
   "metadata": {},
   "source": [
    "For the purposes of this notebook we're going to drop small topics.  In a production context we need to consider what we do:\n",
    "- If we drop small topics then we might lose important information: e.g. if a topic grows over time then we'd miss out on it's genesis.\n",
    "- If we generate all topics then we might create too much data.  After all, the large majority of small topics will never be used in a report or even viewed by a human."
   ]
  },
  {
   "cell_type": "code",
   "execution_count": 323,
   "metadata": {
    "tags": []
   },
   "outputs": [],
   "source": [
    "clusters = [c for c in clusters.communities if len(c) >= MIN_CLUSTER_SIZE]\n",
    "cluster_sizes = pd.Series({k: len(v) for k,v in enumerate(clusters)})"
   ]
  },
  {
   "cell_type": "code",
   "execution_count": 324,
   "metadata": {},
   "outputs": [
    {
     "data": {
      "text/plain": [
       "<seaborn.axisgrid.FacetGrid at 0x1f4ff811550>"
      ]
     },
     "execution_count": 324,
     "metadata": {},
     "output_type": "execute_result"
    },
    {
     "data": {
      "image/png": "[encoded data removed]",
      "text/plain": [
       "<Figure size 360x360 with 1 Axes>"
      ]
     },
     "metadata": {},
     "output_type": "display_data"
    }
   ],
   "source": [
    "from seaborn import displot\n",
    "\n",
    "displot(cluster_sizes)"
   ]
  },
  {
   "cell_type": "markdown",
   "metadata": {},
   "source": [
    "### Exploratory test: print samples from clusters"
   ]
  },
  {
   "cell_type": "code",
   "execution_count": 325,
   "metadata": {
    "tags": []
   },
   "outputs": [],
   "source": [
    "def print_cluster(clusters, cluster_sizes, sample_size=5, cluster_id=None):\n",
    "    \n",
    "    if not cluster_id:\n",
    "        cluster_id = np.random.choice(cluster_sizes.index)\n",
    "\n",
    "    print(f\"Cluster [{cluster_id}] has [{cluster_sizes[cluster_id]}] members.\")\n",
    "    print(\"+++\")\n",
    "\n",
    "    cluster = clusters[cluster_id]\n",
    "    sample = np.random.choice(cluster, min(sample_size, len(cluster)))    \n",
    "\n",
    "    for doc_id in sample:\n",
    "        print(df.preprocessed_text.values[doc_id])\n",
    "        print(\"***\")"
   ]
  },
  {
   "cell_type": "code",
   "execution_count": 326,
   "metadata": {},
   "outputs": [
    {
     "name": "stdout",
     "output_type": "stream",
     "text": [
      "Cluster [474] has [21] members.\n",
      "+++\n",
      "As of 5 30pm 2nd June 2022 owes our NHS £105 599 billion\n",
      "***\n",
      "As of 2 30am 30th May 2022 owes our NHS £105 423 billion\n",
      "***\n",
      "As of 5 30pm 2nd June 2022 owes our NHS £105 599 billion\n",
      "***\n",
      "As of 2 30pm 3rd June 2022 owes our NHS £105 642 billion\n",
      "***\n",
      "As of 2 30am 20th May 2022 owes our NHS £104 936 billion\n",
      "***\n"
     ]
    }
   ],
   "source": [
    "print_cluster(clusters, cluster_sizes)"
   ]
  },
  {
   "cell_type": "markdown",
   "metadata": {},
   "source": [
    "# Derive Filter Rules\n",
    "\n",
    "### Reducing the Computational Difficulty\n",
    "\n",
    "The computational challenge with extracting rules is that there are a large number of tokens, $v \\in V$, in our vocabulary.  Searching through them for combinations which isolate a topic, $t$ from non-topic tweets involves evaluating a combinatatorial space that grows as $V!$.\n",
    "\n",
    "We have a data matrix $M \\in \\mathbb{N}^{N \\times V}$ where $M_{i,j}$ represents the number of times token $j$ occurs in document $i$.\n",
    "\n",
    "Imagine we partition $M$ into two matrices, $X$ and $Z$, where $X$ contains all examples belonging to a particular topic, and $Z$ everything else.\n",
    "\n",
    "The matrix $X^{T}X$ therefore holds covariance information about the tokens.  It is positive definite, by construction and therefore has a valid eigendecomposition $X^{T}X = Q \\Lambda Q^{-1}$.\n",
    "\n",
    "The leading eigenvector of $Q$ should be useful as a compressed representation of $X$.\n",
    "\n",
    "To find it we can perform an efficient, truncated Singular Value Decomposition on $X$, using the fact that:\n",
    "\n",
    "\\begin{align}\n",
    "X &= U D V^T & & \\text{Singular Value Decomposition} \\\\\n",
    "\\therefore X^{T}X &= \\left(U D V^T\\right)^T \\left(U D V^T\\right) \\\\\n",
    "&= \\left(V D U^T\\right)\\left(U D V^T\\right) \\\\\n",
    "&= V D I D V^T & & \\text{Because $U$ is orthonormal} \\\\\n",
    "&= V D^2 V^T  & & \\text{Because $D$ is a diagonal matrix} \\\\\n",
    "\\therefore Q \\Lambda Q^{-1} &= V D^2 V^T & & \\text{$V$ is orthonormal $\\therefore V^{-1} = V^T$} \\\\\n",
    "&\\implies Q = V \\text{ and } D^2 = \\Lambda\n",
    "\\end{align}\n",
    "\n",
    "We truncate the computation to return the right singular vector associated with the highest singular value.  We then take the indexes of the top handful of tokens in the singular vector and use these as the tokenset within which we will hunt for our rules.\n",
    "\n",
    "### Frequent Itemsets and FPGrowth\n",
    "\n",
    "Following the dimensional reduction we have reduced the number of columns of $X$.  Call this matrix $X^{\\prime}$.  We can construct a reduced $Z^{\\prime}$ similarly.  We are going to test out combinations of terms that are good at recalling examples from $X^{\\prime}$, whilst being precise enough not to match too many examples from $Z^{\\prime}$.\n",
    "\n",
    "Since, in general, $\\text{nrow}\\left(Z^{\\prime}\\right) \\gg \\text{nrow}\\left(X^{\\prime}\\right)$ it will be computationally expensive to repeatedly evaluate candidate rules over all examples.  So we will subsample rows from $Z^{\\prime}$ to get $Z^{\\prime\\prime}$ - a negative sample of non-topic tweets.\n",
    "\n",
    "We are now in position to construct a block-matrix $R$ that we will use to evaluate rules:\n",
    "\n",
    "$$\n",
    "R = \n",
    "\\begin{vmatrix}\n",
    "X^{\\prime} & \\mathbb{1} \\\\\n",
    "Z^{\\prime} & \\mathbb{0}\n",
    "\\end{vmatrix}\n",
    "$$\n",
    "\n",
    "Where $\\mathbb{1}$ and $\\mathbb{0}$ are column vectors indicating whether or not each example is a member of the topic.\n",
    "\n",
    "We construct \"frequent tokensets\" using the FPGrowth algorithm.  The algorithm enumerates all subsets of tokens $\\mathcal{s} \\subset \\mathcal{S}$ that have _support_ greater than some minimum support threshold.  Support is defined as follows:\n",
    "\n",
    "$$\n",
    "\\text{Support}\\left(\\mathcal{s}\\right) = \\frac{N^{\\mathcal{s}}}{N}\n",
    "$$\n",
    "\n",
    "Call this tokenset (a set of sets) $\\mathcal{T}$.\n",
    "\n",
    "We then use the association rule algorithm to find an association ruleset with the form:\n",
    "\n",
    "$$\n",
    "\\{ \\forall \\mathcal{t}_1, \\mathcal{t}_2 \\in \\mathcal{T} : \\mathcal{t}_1 \\implies \\mathcal{t}_2 \\}\n",
    "$$\n",
    "\n",
    "Where the implication holds where the _confidence_ of $\\mathcal{t}_1 \\implies \\mathcal{t}_2$ exceeds a threshold.\n",
    "\n",
    "$$\n",
    "\\text{Confidence}\\left(\\mathcal{s}\\right) = \\frac{N_{+}^{\\left(\\mathcal{s}\\right)}}{N^{\\left(\\mathcal{s}\\right)}}\n",
    "$$\n",
    "\n",
    "We then prune these rules to those where the consequent tokenset is a singlton containing the dummy target variable."
   ]
  },
  {
   "cell_type": "code",
   "execution_count": 327,
   "metadata": {},
   "outputs": [],
   "source": [
    "from mlxtend.frequent_patterns import fpgrowth\n",
    "from itertools import count\n",
    "\n",
    "def generate_frequent_tokensets(\n",
    "    tfidf_matrix: np.matrix, \n",
    "    tokens: list,\n",
    "    n_sample: int,    \n",
    "    min_examples_per_rule: int = 10,\n",
    "    max_frequent_tokensets: int = 1000,\n",
    "    support_scaling_coefficient: float = 1.5\n",
    "):\n",
    "    \n",
    "    tokens_df = pd.DataFrame(tfidf_matrix, columns=tokens)\n",
    "    min_support = min_examples_per_rule/n_sample\n",
    "    \n",
    "    for c in count(1):\n",
    "        \n",
    "        frequent_tokensets_df = fpgrowth(\n",
    "            tokens_df, \n",
    "            min_support=min_support, \n",
    "            use_colnames=True,\n",
    "            max_len=4\n",
    "        )\n",
    "        \n",
    "        num_frequent_tokensets = frequent_tokensets_df.shape[0]\n",
    "        \n",
    "        if num_frequent_tokensets > max_frequent_tokensets:\n",
    "            min_support = support_scaling_coefficient * min_support\n",
    "            if min_support >= 1.:\n",
    "                break\n",
    "        else:\n",
    "            return frequent_tokensets_df"
   ]
  },
  {
   "cell_type": "code",
   "execution_count": 328,
   "metadata": {},
   "outputs": [],
   "source": [
    "from imblearn.under_sampling import RandomUnderSampler\n",
    "from mlxtend.frequent_patterns import association_rules, fpgrowth\n",
    "from functools import reduce\n",
    "from copy import deepcopy\n",
    "from sklearn.decomposition import TruncatedSVD\n",
    "\n",
    "def generate_rules(\n",
    "    cluster_id, \n",
    "    clusters, \n",
    "    tfidf_matrix,\n",
    "    dct,\n",
    "    undersampling_ratio=0.1, \n",
    "    RANDOM_SEED=42, \n",
    "    num_terms_to_consider=20, \n",
    "    min_examples_per_rule=5,\n",
    "    min_confidence=0.95,\n",
    "    max_freq_tokenset_size=100,\n",
    "    max_subrule_attempts=20\n",
    "):\n",
    "    X = deepcopy(tfidf_matrix)\n",
    "    \n",
    "    rules = list()\n",
    "\n",
    "    members = clusters[cluster_id]\n",
    "    n_members = len(members)\n",
    "    n_docs = X.shape[0]        \n",
    "    \n",
    "    # X_t is the TF-IDF matrix for members of the topic only.\n",
    "    X_t = X[members, :].A\n",
    "    \n",
    "    assert num_terms_to_consider <= X.shape[1], f\"num_terms_to_consider is too great {num_terms_to_consider}.  Must be <= {X.shape[1]}.\"    \n",
    "    \n",
    "    y = np.zeros(n_docs)\n",
    "    y[members] = 1\n",
    "    undersampler = RandomUnderSampler(sampling_strategy=undersampling_ratio)\n",
    "    X, y = undersampler.fit_resample(X, y)\n",
    "    assert y.sum() == n_members\n",
    "    n_sample = X.shape[0]    \n",
    "    \n",
    "    for attempts in range(max_subrule_attempts):     \n",
    "        \n",
    "        leading_eigenvector = TruncatedSVD(n_components=1, n_iter=3).fit(X_t).components_[0]\n",
    "        top_term_indices = np.argsort(-leading_eigenvector)[0:num_terms_to_consider]\n",
    "        X_prime = np.hstack([X[:, top_term_indices], y.reshape(-1,1)])\n",
    "        tokens = [dct.id2token[t] for t in top_term_indices] + ['TARGET']\n",
    "\n",
    "        frequent_tokensets_df = generate_frequent_tokensets(\n",
    "            X_prime, \n",
    "            tokens,\n",
    "            n_sample,\n",
    "            min_examples_per_rule,\n",
    "            max_frequent_tokensets=max_freq_tokenset_size\n",
    "        )\n",
    "        \n",
    "        if frequent_tokensets_df.shape[0] > 0:\n",
    "            \n",
    "            # Enumerate all association rules from the frequent featuresets.\n",
    "            # Use the min_confidence parameter to filter the rules.\n",
    "            rules_df = association_rules(\n",
    "                frequent_tokensets_df, \n",
    "                metric=\"confidence\", \n",
    "                min_threshold=min_confidence\n",
    "            )\n",
    "\n",
    "            # Further filter the rules to those with a consequent of {TARGET}\n",
    "            rules_df = (\n",
    "                rules_df\n",
    "                [rules_df.consequents == frozenset(['TARGET'])]\n",
    "                .sort_values('support', ascending=False)\n",
    "            )\n",
    "\n",
    "            n_rules = rules_df.shape[0]\n",
    "\n",
    "            # If we did not find any rules then break out of the loop.\n",
    "            if n_rules == 0:\n",
    "                break\n",
    "            else:                \n",
    "                # Choose the highest confidence antecedent as our rule.\n",
    "                rule = set(list((rules_df.antecedents.values[0])))\n",
    "                rules.append(rule)\n",
    "                token_ids = [dct.token2id[t] for t in rule]\n",
    "                n_tokens_in_rule = len(token_ids)\n",
    "                \n",
    "                # Remove tweets that match the rule from X and from X^t.\n",
    "                X_rule_matches = X[:, token_ids].sum(axis=1) == n_tokens_in_rule                \n",
    "                X = X[~X_rule_matches]\n",
    "                y = y[~X_rule_matches]\n",
    "                X_t_rule_matches = X_t[:, token_ids].sum(axis=1) == n_tokens_in_rule\n",
    "                X_t = X_t[~X_t_rule_matches]\n",
    "                \n",
    "                # If there are still tweets not captured by any rule, repeat the rule-finding process.\n",
    "                # Otherwise break out of the loop.\n",
    "                if X_t.shape[0] == 0:\n",
    "                    break\n",
    "\n",
    "    return rules, attempts, n_members, X_t.shape[0]"
   ]
  },
  {
   "cell_type": "code",
   "execution_count": 329,
   "metadata": {
    "jupyter": {
     "source_hidden": true
    },
    "tags": []
   },
   "outputs": [],
   "source": [
    "# X = deepcopy(M)\n",
    "\n",
    "# rules = list()\n",
    "\n",
    "# members = clusters[0]\n",
    "# n_members = len(members)\n",
    "# print(\"n_members\", n_members)\n",
    "# n_docs = X.shape[0]        \n",
    "\n",
    "# # X_t is the TF-IDF matrix for members of the topic only.\n",
    "# X_t = X[members, :].A\n",
    "\n",
    "# y = np.zeros(n_docs)\n",
    "# y[members] = 1\n",
    "# undersampler = RandomUnderSampler(sampling_strategy=RULE_UNDERSAMPLING_RATIO)\n",
    "# X, y = undersampler.fit_resample(X, y)\n",
    "# assert y.sum() == n_members\n",
    "# n_sample = X.shape[0]\n",
    "\n",
    "# print(\"n_sample\", n_sample)\n",
    "\n",
    "# for attempts in range(MAX_SUBRULE_ATTEMPTS):     \n",
    "\n",
    "#     leading_eigenvector = TruncatedSVD(n_components=1, n_iter=3).fit(X_t).components_[0]\n",
    "#     top_term_indices = np.argsort(-leading_eigenvector)[0:NUM_TERMS_TO_CONSIDER]\n",
    "#     X_prime = np.hstack([X[:, top_term_indices], y.reshape(-1,1)])\n",
    "#     tokens = [dct.id2token[t] for t in top_term_indices] + ['TARGET']\n",
    "    \n",
    "#     print(tokens)\n",
    "\n",
    "#     frequent_tokensets_df = generate_frequent_tokensets(\n",
    "#         X_prime, \n",
    "#         tokens,\n",
    "#         n_sample,\n",
    "#         MIN_EXAMPLES_PER_RULE,\n",
    "#         max_frequent_tokensets=MAX_FREQ_TOKENSET_SIZE\n",
    "#     )\n",
    "\n",
    "#     if frequent_tokensets_df.shape[0] > 0:\n",
    "        \n",
    "#         print(frequent_tokensets_df.head(5))\n",
    "\n",
    "#         # Enumerate all association rules from the frequent featuresets.\n",
    "#         # Use the min_confidence parameter to filter the rules.\n",
    "#         rules_df = association_rules(\n",
    "#             frequent_tokensets_df, \n",
    "#             metric=\"confidence\", \n",
    "#             min_threshold=MIN_CONFIDENCE\n",
    "#         )\n",
    "        \n",
    "#         print(rules_df.head(5))\n",
    "\n",
    "#         # Further filter the rules to those with a consequent of {TARGET}\n",
    "#         rules_df = (\n",
    "#             rules_df\n",
    "#             [rules_df.consequents == frozenset(['TARGET'])]\n",
    "#             .sort_values('support', ascending=False)\n",
    "#         )\n",
    "        \n",
    "#         print(rules_df.head(5))\n",
    "\n",
    "#         n_rules = rules_df.shape[0]\n",
    "\n",
    "#         # If we did not find any rules then break out of the loop.\n",
    "#         if n_rules == 0:\n",
    "#             break\n",
    "#         else:                \n",
    "#             # Choose the highest confidence antecedent as our rule.\n",
    "#             rule = set(list((rules_df.antecedents.values[0])))\n",
    "#             rules.append(rule)\n",
    "#             token_ids = [dct.token2id[t] for t in rule]\n",
    "#             n_tokens_in_rule = len(token_ids)\n",
    "\n",
    "#             # Remove tweets that match the rule from X and from X^t.\n",
    "#             X_rule_matches = X[:, token_ids].sum(axis=1) == n_tokens_in_rule                \n",
    "#             X = X[~X_rule_matches]\n",
    "#             y = y[~X_rule_matches]\n",
    "#             X_t_rule_matches = X_t[:, token_ids].sum(axis=1) == n_tokens_in_rule\n",
    "#             X_t = X_t[~X_t_rule_matches]\n",
    "\n",
    "#             # If there are still tweets not captured by any rule, repeat the rule-finding process.\n",
    "#             # Otherwise break out of the loop.\n",
    "#             if X_t.shape[0] == 0:\n",
    "#                 break"
   ]
  },
  {
   "cell_type": "code",
   "execution_count": 330,
   "metadata": {},
   "outputs": [
    {
     "name": "stdout",
     "output_type": "stream",
     "text": [
      "TF-IDF matrix has dimensions: (90787, 5663)\n"
     ]
    }
   ],
   "source": [
    "M = calc_tfidf(df)"
   ]
  },
  {
   "cell_type": "code",
   "execution_count": 331,
   "metadata": {
    "tags": []
   },
   "outputs": [
    {
     "name": "stderr",
     "output_type": "stream",
     "text": [
      "100%|█████████████████████████████████████████████████████████████████████████████████████████████████████████████████████| 507/507 [06:06<00:00,  1.38it/s]\n"
     ]
    }
   ],
   "source": [
    "raw_rules = [\n",
    "    generate_rules(\n",
    "        cluster_id=id, \n",
    "        clusters=clusters, \n",
    "        tfidf_matrix=M, \n",
    "        dct=dct,\n",
    "        undersampling_ratio=0.25, \n",
    "        RANDOM_SEED=RANDOM_SEED, \n",
    "        num_terms_to_consider=NUM_TERMS_TO_CONSIDER,\n",
    "        min_examples_per_rule=MIN_EXAMPLES_PER_RULE,\n",
    "        min_confidence=0.9,\n",
    "        max_freq_tokenset_size=500,\n",
    "        max_subrule_attempts=MAX_SUBRULE_ATTEMPTS\n",
    "    )\n",
    "    for id, _ in tqdm(enumerate(clusters), total=len(clusters))\n",
    "]"
   ]
  },
  {
   "cell_type": "code",
   "execution_count": 332,
   "metadata": {
    "tags": []
   },
   "outputs": [
    {
     "data": {
      "text/plain": [
       "[([{'inflat', 'think'}, {'demand', 'inflat'}], 2, 439, 380),\n",
       " ([{'he', 'liar'}], 1, 408, 369),\n",
       " ([], 0, 397, 397),\n",
       " ([{'brexit', 'live'}, {'live', 'rise'}], 2, 391, 237),\n",
       " ([], 0, 341, 341),\n",
       " ([{'wage'}, {'pai', 'rise'}], 2, 326, 139),\n",
       " ([], 0, 293, 293),\n",
       " ([{'uk', 'ukrain'}], 1, 292, 195),\n",
       " ([], 0, 291, 291),\n",
       " ([{'food', 'standard'}, {'food', 'produc'}], 2, 290, 232),\n",
       " ([{'face', 'vote'}, {'confid', 'conserv', 'vote'}], 2, 276, 90),\n",
       " ([{'he', 'li'}, {'brexit', 'liar'}], 2, 271, 201),\n",
       " ([], 0, 269, 269),\n",
       " ([{'cost', 'govern'}, {'cost', 'peopl'}], 2, 266, 189),\n",
       " ([{'countri', 'inflat'}], 1, 234, 177),\n",
       " ([{'resign', 'uk'}], 1, 229, 201),\n",
       " ([{'inflat', 'monei'}], 1, 212, 177),\n",
       " ([{'inflat', 'wage'}, {'increas', 'inflat'}], 2, 211, 156),\n",
       " ([{'inflat', 'it'}], 1, 208, 186),\n",
       " ([{'uk', 'war'}], 1, 192, 158),\n",
       " ([{'caus', 'inflat'}, {'corpor', 'inflat'}], 2, 189, 140),\n",
       " ([], 0, 185, 185),\n",
       " ([{'food', 'ukrain'}, {'food', 'global'}], 2, 178, 117),\n",
       " ([], 0, 173, 173),\n",
       " ([{'caus', 'inflat'}], 1, 172, 150),\n",
       " ([{'cost', 'live', 'uk'}, {'live', 'peopl'}], 2, 169, 86),\n",
       " ([{'export'}], 1, 167, 101),\n",
       " ([{'energi', 'scotland'}, {'ga', 'uk'}], 2, 166, 118),\n",
       " ([{'economi', 'energi'}], 1, 158, 126),\n",
       " ([{'monei', 'uk'}], 1, 157, 129),\n",
       " ([], 0, 151, 151),\n",
       " ([{'sue'}], 1, 151, 5),\n",
       " ([], 0, 149, 149),\n",
       " ([{'american', 'inflat'}], 1, 147, 115),\n",
       " ([{'inflat', 'monei'}], 1, 146, 111),\n",
       " ([{'brexit', 'food'}], 1, 144, 122),\n",
       " ([{'energi', 'uk'}], 1, 142, 110),\n",
       " ([{'compani', 'energi'}], 1, 142, 110),\n",
       " ([{'grai', 'report'}], 1, 139, 27),\n",
       " ([{'tonight', 'vote'}], 1, 137, 113),\n",
       " ([], 0, 128, 128),\n",
       " ([{'🇬🇧'}], 1, 122, 59),\n",
       " ([{'thank'}], 1, 121, 60),\n",
       " ([], 0, 117, 117),\n",
       " ([{'street', 'sue'}], 1, 116, 93),\n",
       " ([], 0, 114, 114),\n",
       " ([{'noconfid'}], 1, 113, 14),\n",
       " ([{'confid', 'i'}], 1, 111, 89),\n",
       " ([{'148'}], 1, 108, 43),\n",
       " ([{'biden'}], 1, 104, 3),\n",
       " ([{'deliv'}], 1, 104, 21),\n",
       " ([{'9'}, {'inflat', 'year'}], 2, 102, 25),\n",
       " ([], 0, 101, 101),\n",
       " ([{'boo'}], 1, 101, 10),\n",
       " ([{'food', 'help'}], 1, 99, 71),\n",
       " ([], 0, 99, 99),\n",
       " ([{'liar'}], 1, 98, 56),\n",
       " ([{'bank'}, {'foodbank'}], 2, 97, 13),\n",
       " ([{'russia'}, {'russian'}], 2, 96, 37),\n",
       " ([{'brexit', 'food'}], 1, 96, 54),\n",
       " ([{'bill', 'energi'}], 1, 95, 66),\n",
       " ([{'fine'}], 1, 95, 34),\n",
       " ([{'confid', 'vote'}], 1, 95, 10),\n",
       " ([{'boo'}], 1, 95, 10),\n",
       " ([], 0, 93, 93),\n",
       " ([], 0, 92, 92),\n",
       " ([{'face', 'leadership'}], 1, 92, 59),\n",
       " ([{'meet', 'sue'}], 1, 91, 67),\n",
       " ([{'bank'}], 1, 90, 22),\n",
       " ([{'inflat', 'uk'}], 1, 89, 48),\n",
       " ([], 0, 88, 88),\n",
       " ([{'honesti'}], 1, 87, 60),\n",
       " ([{'thank'}], 1, 86, 43),\n",
       " ([{'brexit', 'disast'}], 1, 81, 60),\n",
       " ([], 0, 81, 81),\n",
       " ([{'boo'}], 1, 80, 8),\n",
       " ([], 0, 78, 78),\n",
       " ([], 0, 78, 78),\n",
       " ([{'april'}], 1, 78, 24),\n",
       " ([{'major'}], 1, 77, 52),\n",
       " ([{'protocol'}], 1, 76, 15),\n",
       " ([], 0, 74, 74),\n",
       " ([{'american'}], 1, 74, 38),\n",
       " ([{'bradi'}], 1, 73, 18),\n",
       " ([{'boo'}], 1, 71, 5),\n",
       " ([], 0, 70, 70),\n",
       " ([], 0, 70, 70),\n",
       " ([{'code', 'ministeri'}], 1, 70, 8),\n",
       " ([{'nigeria'}], 1, 68, 48),\n",
       " ([], 0, 68, 68),\n",
       " ([{'billion', 'nh', 'ow'}], 0, 68, 0),\n",
       " ([{'tax'}], 1, 67, 12),\n",
       " ([], 0, 67, 67),\n",
       " ([{'bank', 'rate'}], 1, 67, 45),\n",
       " ([{'starmer'}], 1, 66, 16),\n",
       " ([], 0, 65, 65),\n",
       " ([{'sunak'}], 1, 65, 4),\n",
       " ([{'code', 'ministeri'}], 19, 65, 2),\n",
       " ([{'northern'}], 1, 65, 26),\n",
       " ([], 0, 64, 64),\n",
       " ([], 0, 64, 64),\n",
       " ([{'mp', 'tori'}], 1, 64, 33),\n",
       " ([], 0, 64, 64),\n",
       " ([], 0, 62, 62),\n",
       " ([], 0, 62, 62),\n",
       " ([], 0, 61, 61),\n",
       " ([{'biden'}], 1, 61, 8),\n",
       " ([], 0, 60, 60),\n",
       " ([], 0, 60, 60),\n",
       " ([{'confid', 'surviv'}], 1, 60, 23),\n",
       " ([], 0, 59, 59),\n",
       " ([{'noconfid', 'vote'}], 1, 59, 5),\n",
       " ([], 0, 58, 58),\n",
       " ([], 0, 58, 58),\n",
       " ([], 0, 57, 57),\n",
       " ([{'blame', 'inflat'}], 1, 57, 30),\n",
       " ([{'april'}], 1, 57, 36),\n",
       " ([], 0, 56, 56),\n",
       " ([{'boo'}], 1, 56, 4),\n",
       " ([], 0, 55, 55),\n",
       " ([{'148'}], 1, 54, 4),\n",
       " ([], 0, 54, 54),\n",
       " ([], 0, 54, 54),\n",
       " ([], 0, 54, 54),\n",
       " ([{'as', 'billion', 'nh'}], 0, 54, 0),\n",
       " ([], 0, 53, 53),\n",
       " ([{'rate'}], 1, 53, 12),\n",
       " ([{'children', 'uk'}], 1, 53, 27),\n",
       " ([{'jubile'}], 1, 53, 3),\n",
       " ([], 0, 52, 52),\n",
       " ([{'worst'}], 1, 52, 28),\n",
       " ([{'code'}], 1, 52, 3),\n",
       " ([{'resign'}], 1, 52, 30),\n",
       " ([], 0, 52, 52),\n",
       " ([{'ministeri'}], 1, 52, 7),\n",
       " ([{'inflat', 'pai'}], 1, 51, 27),\n",
       " ([], 0, 51, 51),\n",
       " ([{'cost', 'live'}], 1, 51, 2),\n",
       " ([], 0, 51, 51),\n",
       " ([], 0, 51, 51),\n",
       " ([{'paul'}], 19, 50, 4),\n",
       " ([{'grai', 'sue'}], 0, 50, 0),\n",
       " ([], 0, 50, 50),\n",
       " ([], 0, 50, 50),\n",
       " ([], 0, 50, 50),\n",
       " ([{'inflat', 'rate'}], 1, 49, 28),\n",
       " ([{'tax'}], 1, 49, 16),\n",
       " ([{'nigeria'}], 1, 49, 21),\n",
       " ([{'windfal'}], 19, 49, 3),\n",
       " ([{'sunak'}], 1, 48, 13),\n",
       " ([{'who'}], 1, 48, 5),\n",
       " ([{'grai'}], 19, 48, 8),\n",
       " ([{'partyg'}], 1, 48, 9),\n",
       " ([{'fine'}], 1, 47, 14),\n",
       " ([{'biden'}], 1, 47, 9),\n",
       " ([{'call', 'mp'}], 1, 46, 25),\n",
       " ([{'leadership'}], 1, 46, 14),\n",
       " ([], 0, 45, 45),\n",
       " ([{'care'}], 0, 45, 0),\n",
       " ([{'bank'}], 1, 45, 10),\n",
       " ([{'imperi'}], 19, 45, 10),\n",
       " ([{'grai'}], 1, 45, 10),\n",
       " ([], 0, 44, 44),\n",
       " ([{'lockdown'}], 1, 44, 7),\n",
       " ([], 0, 44, 44),\n",
       " ([{'conserv', 'vote'}], 1, 44, 21),\n",
       " ([], 0, 44, 44),\n",
       " ([{'ow'}], 0, 44, 0),\n",
       " ([], 0, 44, 44),\n",
       " ([{'children'}], 1, 43, 15),\n",
       " ([{'148', 'vote'}], 1, 43, 4),\n",
       " ([], 0, 43, 43),\n",
       " ([], 0, 43, 43),\n",
       " ([], 0, 43, 43),\n",
       " ([{'break'}], 1, 43, 14),\n",
       " ([{'mp', 'vote'}], 1, 42, 14),\n",
       " ([{'april'}], 1, 42, 9),\n",
       " ([{'boo'}], 19, 42, 4),\n",
       " ([{'sweden'}], 9, 42, 16),\n",
       " ([{'2022', 'as', 'nh'}], 0, 42, 0),\n",
       " ([{'home'}], 19, 42, 15),\n",
       " ([{'10', 'no'}], 19, 42, 12),\n",
       " ([], 0, 41, 41),\n",
       " ([{'biden', 'inflat'}], 1, 41, 14),\n",
       " ([], 0, 41, 41),\n",
       " ([], 0, 41, 41),\n",
       " ([], 0, 40, 40),\n",
       " ([], 0, 40, 40),\n",
       " ([{'fine'}], 1, 40, 20),\n",
       " ([], 0, 40, 40),\n",
       " ([{'diesel'}], 1, 40, 18),\n",
       " ([], 0, 40, 40),\n",
       " ([{'fine'}], 19, 40, 2),\n",
       " ([{'code'}], 19, 40, 1),\n",
       " ([{'eu'}], 1, 40, 17),\n",
       " ([{'partyg', 'respons'}], 1, 40, 19),\n",
       " ([], 0, 40, 40),\n",
       " ([{'boo'}], 19, 39, 3),\n",
       " ([], 0, 39, 39),\n",
       " ([], 0, 39, 39),\n",
       " ([{'biden'}], 1, 39, 17),\n",
       " ([{'confid'}], 0, 39, 0),\n",
       " ([], 0, 39, 39),\n",
       " ([], 0, 38, 38),\n",
       " ([{'energi', 'price'}], 1, 38, 14),\n",
       " ([{'code'}], 19, 38, 3),\n",
       " ([{'bank', 'food'}], 1, 37, 14),\n",
       " ([], 0, 37, 37),\n",
       " ([], 0, 37, 37),\n",
       " ([], 0, 37, 37),\n",
       " ([], 0, 37, 37),\n",
       " ([], 0, 36, 36),\n",
       " ([], 0, 36, 36),\n",
       " ([], 0, 36, 36),\n",
       " ([], 0, 36, 36),\n",
       " ([], 0, 36, 36),\n",
       " ([{'2020'}], 1, 36, 3),\n",
       " ([], 0, 36, 36),\n",
       " ([{'polic'}], 1, 36, 2),\n",
       " ([{'protocol'}], 1, 36, 14),\n",
       " ([{'boo'}], 19, 36, 2),\n",
       " ([{'rishi'}], 19, 35, 1),\n",
       " ([], 0, 35, 35),\n",
       " ([{'biden'}], 1, 35, 4),\n",
       " ([], 0, 35, 35),\n",
       " ([], 0, 35, 35),\n",
       " ([{'highest'}], 1, 35, 11),\n",
       " ([], 0, 35, 35),\n",
       " ([], 0, 35, 35),\n",
       " ([{'grai'}], 19, 35, 4),\n",
       " ([{'northern'}], 19, 35, 12),\n",
       " ([], 0, 35, 35),\n",
       " ([], 0, 35, 35),\n",
       " ([], 0, 34, 34),\n",
       " ([{'who'}], 1, 34, 9),\n",
       " ([], 0, 34, 34),\n",
       " ([], 0, 34, 34),\n",
       " ([], 0, 34, 34),\n",
       " ([], 0, 34, 34),\n",
       " ([{'april'}], 1, 34, 8),\n",
       " ([], 0, 34, 34),\n",
       " ([], 0, 34, 34),\n",
       " ([], 0, 34, 34),\n",
       " ([{'grai'}], 19, 34, 3),\n",
       " ([], 0, 34, 34),\n",
       " ([], 0, 33, 33),\n",
       " ([{'sweden'}], 1, 33, 2),\n",
       " ([], 0, 33, 33),\n",
       " ([{'148'}], 1, 33, 8),\n",
       " ([{'boo'}], 19, 33, 4),\n",
       " ([], 0, 33, 33),\n",
       " ([{'break', 'confid'}], 1, 33, 13),\n",
       " ([{'letter'}], 1, 33, 10),\n",
       " ([], 0, 32, 32),\n",
       " ([], 0, 32, 32),\n",
       " ([], 0, 32, 32),\n",
       " ([{'confid', 'vote'}], 19, 32, 7),\n",
       " ([{'benefit'}], 1, 32, 10),\n",
       " ([{'lose'}], 19, 32, 9),\n",
       " ([{'code'}], 1, 32, 5),\n",
       " ([{'work'}], 19, 32, 2),\n",
       " ([{'confid'}], 19, 32, 5),\n",
       " ([], 0, 32, 32),\n",
       " ([], 0, 31, 31),\n",
       " ([], 0, 31, 31),\n",
       " ([], 0, 31, 31),\n",
       " ([{'children'}], 19, 31, 2),\n",
       " ([{'break', 'vote'}], 19, 31, 3),\n",
       " ([], 0, 31, 31),\n",
       " ([], 0, 31, 31),\n",
       " ([], 0, 31, 31),\n",
       " ([], 0, 31, 31),\n",
       " ([{'save'}], 0, 31, 0),\n",
       " ([{'imperi'}], 19, 30, 5),\n",
       " ([], 0, 30, 30),\n",
       " ([], 0, 30, 30),\n",
       " ([], 0, 30, 30),\n",
       " ([], 0, 30, 30),\n",
       " ([{'211'}], 1, 30, 8),\n",
       " ([], 0, 30, 30),\n",
       " ([{'chancellor'}], 19, 30, 9),\n",
       " ([], 0, 30, 30),\n",
       " ([], 0, 30, 30),\n",
       " ([{'confid', 'vote'}], 1, 30, 1),\n",
       " ([{'deliv'}], 19, 30, 5),\n",
       " ([{'grai'}], 19, 30, 4),\n",
       " ([], 0, 30, 30),\n",
       " ([], 0, 30, 30),\n",
       " ([{'civil'}], 1, 30, 3),\n",
       " ([], 0, 30, 30),\n",
       " ([], 0, 29, 29),\n",
       " ([], 0, 29, 29),\n",
       " ([], 0, 29, 29),\n",
       " ([], 0, 29, 29),\n",
       " ([], 0, 29, 29),\n",
       " ([], 0, 29, 29),\n",
       " ([], 0, 29, 29),\n",
       " ([], 0, 29, 29),\n",
       " ([], 0, 29, 29),\n",
       " ([], 0, 29, 29),\n",
       " ([{'vaccin'}], 1, 29, 5),\n",
       " ([{'june'}], 0, 29, 0),\n",
       " ([], 0, 29, 29),\n",
       " ([{'confid', 'i'}], 1, 28, 7),\n",
       " ([], 0, 28, 28),\n",
       " ([], 0, 28, 28),\n",
       " ([], 0, 28, 28),\n",
       " ([], 0, 28, 28),\n",
       " ([], 0, 28, 28),\n",
       " ([], 0, 28, 28),\n",
       " ([{'job'}], 19, 28, 2),\n",
       " ([], 0, 28, 28),\n",
       " ([], 0, 28, 28),\n",
       " ([], 0, 28, 28),\n",
       " ([{'boo'}], 19, 27, 3),\n",
       " ([{'grai'}], 1, 27, 3),\n",
       " ([{'arriv'}], 1, 27, 6),\n",
       " ([], 0, 27, 27),\n",
       " ([], 0, 27, 27),\n",
       " ([], 0, 27, 27),\n",
       " ([], 0, 27, 27),\n",
       " ([], 0, 27, 27),\n",
       " ([], 0, 27, 27),\n",
       " ([{'chang', 'rule'}], 19, 27, 5),\n",
       " ([{'hedg'}], 19, 27, 4),\n",
       " ([], 0, 27, 27),\n",
       " ([{'7'}], 0, 27, 0),\n",
       " ([], 0, 27, 27),\n",
       " ([{'border'}], 19, 27, 7),\n",
       " ([], 0, 27, 27),\n",
       " ([], 0, 27, 27),\n",
       " ([], 0, 27, 27),\n",
       " ([{'april'}], 1, 27, 3),\n",
       " ([], 0, 27, 27),\n",
       " ([{'2022'}], 0, 27, 0),\n",
       " ([], 0, 26, 26),\n",
       " ([], 0, 26, 26),\n",
       " ([], 0, 26, 26),\n",
       " ([{'biden'}], 19, 26, 2),\n",
       " ([], 0, 26, 26),\n",
       " ([], 0, 26, 26),\n",
       " ([], 0, 26, 26),\n",
       " ([], 0, 26, 26),\n",
       " ([], 0, 26, 26),\n",
       " ([], 0, 26, 26),\n",
       " ([], 0, 26, 26),\n",
       " ([{'billion'}], 1, 26, 3),\n",
       " ([{'nh'}], 0, 26, 0),\n",
       " ([], 0, 26, 26),\n",
       " ([], 0, 26, 26),\n",
       " ([], 0, 26, 26),\n",
       " ([], 0, 26, 26),\n",
       " ([], 0, 25, 25),\n",
       " ([], 0, 25, 25),\n",
       " ([], 0, 25, 25),\n",
       " ([], 0, 25, 25),\n",
       " ([], 0, 25, 25),\n",
       " ([], 0, 25, 25),\n",
       " ([], 0, 25, 25),\n",
       " ([], 0, 25, 25),\n",
       " ([], 0, 25, 25),\n",
       " ([{'grai'}], 0, 25, 0),\n",
       " ([{'boo'}], 19, 25, 2),\n",
       " ([], 0, 25, 25),\n",
       " ([], 0, 25, 25),\n",
       " ([], 0, 25, 25),\n",
       " ([], 0, 25, 25),\n",
       " ([{'work'}], 19, 25, 1),\n",
       " ([], 0, 25, 25),\n",
       " ([], 0, 25, 25),\n",
       " ([], 0, 25, 25),\n",
       " ([], 0, 25, 25),\n",
       " ([{'resign'}], 19, 25, 3),\n",
       " ([], 0, 25, 25),\n",
       " ([], 0, 25, 25),\n",
       " ([], 0, 25, 25),\n",
       " ([], 0, 24, 24),\n",
       " ([], 0, 24, 24),\n",
       " ([], 0, 24, 24),\n",
       " ([], 0, 24, 24),\n",
       " ([], 0, 24, 24),\n",
       " ([], 0, 24, 24),\n",
       " ([], 0, 24, 24),\n",
       " ([], 0, 24, 24),\n",
       " ([], 0, 24, 24),\n",
       " ([], 0, 24, 24),\n",
       " ([], 0, 24, 24),\n",
       " ([], 0, 24, 24),\n",
       " ([], 0, 24, 24),\n",
       " ([], 0, 24, 24),\n",
       " ([], 0, 24, 24),\n",
       " ([], 0, 24, 24),\n",
       " ([], 0, 24, 24),\n",
       " ([], 0, 24, 24),\n",
       " ([{'organis'}], 0, 24, 0),\n",
       " ([{'confid'}], 19, 24, 2),\n",
       " ([{'sue'}], 19, 24, 3),\n",
       " ([{'northern'}], 19, 24, 1),\n",
       " ([{'work'}], 19, 24, 2),\n",
       " ([], 0, 24, 24),\n",
       " ([], 0, 24, 24),\n",
       " ([], 0, 24, 24),\n",
       " ([{'civil'}], 19, 24, 2),\n",
       " ([], 0, 23, 23),\n",
       " ([], 0, 23, 23),\n",
       " ([{'sweden'}], 19, 23, 2),\n",
       " ([], 0, 23, 23),\n",
       " ([], 0, 23, 23),\n",
       " ([], 0, 23, 23),\n",
       " ([], 0, 23, 23),\n",
       " ([], 0, 23, 23),\n",
       " ([], 0, 23, 23),\n",
       " ([{'rishi'}], 1, 23, 2),\n",
       " ([], 0, 23, 23),\n",
       " ([{'biden'}], 0, 23, 0),\n",
       " ([{'crisi', 'live'}], 4, 23, 3),\n",
       " ([], 0, 23, 23),\n",
       " ([], 0, 23, 23),\n",
       " ([{'windfal'}], 0, 23, 0),\n",
       " ([], 0, 23, 23),\n",
       " ([], 0, 23, 23),\n",
       " ([], 0, 22, 22),\n",
       " ([], 0, 22, 22),\n",
       " ([], 0, 22, 22),\n",
       " ([], 0, 22, 22),\n",
       " ([], 0, 22, 22),\n",
       " ([], 0, 22, 22),\n",
       " ([], 0, 22, 22),\n",
       " ([], 0, 22, 22),\n",
       " ([], 0, 22, 22),\n",
       " ([], 0, 22, 22),\n",
       " ([], 0, 22, 22),\n",
       " ([], 0, 22, 22),\n",
       " ([], 0, 22, 22),\n",
       " ([], 0, 22, 22),\n",
       " ([], 0, 22, 22),\n",
       " ([], 0, 22, 22),\n",
       " ([], 0, 22, 22),\n",
       " ([], 0, 22, 22),\n",
       " ([], 0, 22, 22),\n",
       " ([{'articl'}], 19, 22, 1),\n",
       " ([], 0, 22, 22),\n",
       " ([{'nh'}], 0, 22, 0),\n",
       " ([{'civil'}], 0, 22, 0),\n",
       " ([{'grai'}], 0, 21, 0),\n",
       " ([], 0, 21, 21),\n",
       " ([], 0, 21, 21),\n",
       " ([], 0, 21, 21),\n",
       " ([], 0, 21, 21),\n",
       " ([], 0, 21, 21),\n",
       " ([], 0, 21, 21),\n",
       " ([], 0, 21, 21),\n",
       " ([], 0, 21, 21),\n",
       " ([], 0, 21, 21),\n",
       " ([], 0, 21, 21),\n",
       " ([], 0, 21, 21),\n",
       " ([], 0, 21, 21),\n",
       " ([], 0, 21, 21),\n",
       " ([], 0, 21, 21),\n",
       " ([], 0, 21, 21),\n",
       " ([], 0, 21, 21),\n",
       " ([{'code'}], 0, 21, 0),\n",
       " ([{'code', 'need'}], 0, 21, 0),\n",
       " ([], 0, 21, 21),\n",
       " ([], 0, 21, 21),\n",
       " ([], 0, 21, 21),\n",
       " ([], 0, 21, 21),\n",
       " ([], 0, 21, 21),\n",
       " ([], 0, 21, 21),\n",
       " ([], 0, 21, 21),\n",
       " ([], 0, 21, 21),\n",
       " ([], 0, 21, 21),\n",
       " ([], 0, 21, 21),\n",
       " ([{'raab'}], 19, 21, 1),\n",
       " ([{'2022'}], 0, 21, 0),\n",
       " ([{'mai'}], 0, 21, 0),\n",
       " ([], 0, 20, 20),\n",
       " ([], 0, 20, 20),\n",
       " ([], 0, 20, 20),\n",
       " ([], 0, 20, 20),\n",
       " ([], 0, 20, 20),\n",
       " ([], 0, 20, 20),\n",
       " ([], 0, 20, 20),\n",
       " ([], 0, 20, 20),\n",
       " ([], 0, 20, 20),\n",
       " ([], 0, 20, 20),\n",
       " ([], 0, 20, 20),\n",
       " ([], 0, 20, 20),\n",
       " ([], 0, 20, 20),\n",
       " ([], 0, 20, 20),\n",
       " ([], 0, 20, 20),\n",
       " ([], 0, 20, 20),\n",
       " ([], 0, 20, 20),\n",
       " ([], 0, 20, 20),\n",
       " ([], 0, 20, 20),\n",
       " ([], 0, 20, 20),\n",
       " ([{'cost', 'live'}], 0, 20, 0),\n",
       " ([], 0, 20, 20),\n",
       " ([], 0, 20, 20),\n",
       " ([], 0, 20, 20),\n",
       " ([], 0, 20, 20),\n",
       " ([], 0, 20, 20),\n",
       " ([], 0, 20, 20),\n",
       " ([], 0, 20, 20),\n",
       " ([], 0, 20, 20),\n",
       " ([], 0, 20, 20),\n",
       " ([], 0, 20, 20)]"
      ]
     },
     "execution_count": 332,
     "metadata": {},
     "output_type": "execute_result"
    }
   ],
   "source": [
    "raw_rules"
   ]
  },
  {
   "cell_type": "code",
   "execution_count": 333,
   "metadata": {},
   "outputs": [],
   "source": [
    "raw_rules_only = [r[0] for r in raw_rules]"
   ]
  },
  {
   "cell_type": "markdown",
   "metadata": {},
   "source": [
    "### Remove Subsumed Rules\n",
    "\n",
    "The FPGrowth algorithm can result in rules which are subsumed by other rules.  For example, the rule `[{dog}, {cat}]` subsumes the rule `[{dog}]`, because all members of the latter are members of the former, but the converse is not true.\n",
    "\n",
    "The code below removes subsumed rules."
   ]
  },
  {
   "cell_type": "code",
   "execution_count": 334,
   "metadata": {},
   "outputs": [],
   "source": [
    "def is_subset(rs1, rs2):\n",
    "    # If each rule in r2 contains at least one of the rules in r1 as a subset, then r2 must be a subset of r1\n",
    "    for r1 in rs1:\n",
    "        if sum([r2.issubset(r1) for r2 in rs2]) == 0:\n",
    "            return False\n",
    "    return True"
   ]
  },
  {
   "cell_type": "code",
   "execution_count": 335,
   "metadata": {},
   "outputs": [],
   "source": [
    "def remove_subsumed(rules):\n",
    "    \n",
    "    def is_subsumed(idx1, rs1):\n",
    "        for idx2, rs2 in enumerate(rules):\n",
    "            if rs2 and idx1 < idx2:\n",
    "                if is_subset(rs1, rs2):\n",
    "                    return True\n",
    "        return False\n",
    "    \n",
    "    for idx1, rs1 in enumerate(rules):\n",
    "        if rs1:\n",
    "            if not is_subsumed(idx1, rs1):\n",
    "                yield rs1"
   ]
  },
  {
   "cell_type": "code",
   "execution_count": 336,
   "metadata": {
    "tags": []
   },
   "outputs": [
    {
     "name": "stdout",
     "output_type": "stream",
     "text": [
      "There are 507 \"raw\" rules.  After removing empty and subsumed rules, 120 rules remain.\n"
     ]
    }
   ],
   "source": [
    "rules = [r for r in list(remove_subsumed(raw_rules_only)) if r]\n",
    "print(f'There are {len(raw_rules)} \"raw\" rules.  After removing empty and subsumed rules, {len(rules)} rules remain.')"
   ]
  },
  {
   "cell_type": "markdown",
   "metadata": {},
   "source": [
    "### Construct a DataFrame containing our rules."
   ]
  },
  {
   "cell_type": "code",
   "execution_count": 337,
   "metadata": {},
   "outputs": [],
   "source": [
    "# A handy function which returns all the matches of a rule\n",
    "\n",
    "def find_rule_matches(rule, dct, tfidf_matrix):\n",
    "    tokens = [[dct.token2id[t] for t in r] for r in rule]        \n",
    "    rule_tokens = [[dct.token2id[t] for t in r] for r in rule]\n",
    "    matches = np.hstack(\n",
    "        [tfidf_matrix[:, rt].prod(axis=1) for rt in rule_tokens]\n",
    "    ).sum(axis=1).A.ravel().astype(bool)\n",
    "    return matches"
   ]
  },
  {
   "cell_type": "code",
   "execution_count": 338,
   "metadata": {},
   "outputs": [],
   "source": [
    "rules_df = pd.DataFrame([\n",
    "    {'rule': r, 'matches': find_rule_matches(r, dct, M).sum()}\n",
    "    for r in rules\n",
    "]).sort_values('matches', ascending=False)"
   ]
  },
  {
   "cell_type": "code",
   "execution_count": 339,
   "metadata": {},
   "outputs": [
    {
     "data": {
      "text/html": [
       "<div>\n",
       "<style scoped>\n",
       "    .dataframe tbody tr th:only-of-type {\n",
       "        vertical-align: middle;\n",
       "    }\n",
       "\n",
       "    .dataframe tbody tr th {\n",
       "        vertical-align: top;\n",
       "    }\n",
       "\n",
       "    .dataframe thead th {\n",
       "        text-align: right;\n",
       "    }\n",
       "</style>\n",
       "<table border=\"1\" class=\"dataframe\">\n",
       "  <thead>\n",
       "    <tr style=\"text-align: right;\">\n",
       "      <th></th>\n",
       "      <th>rule</th>\n",
       "      <th>matches</th>\n",
       "      <th>id</th>\n",
       "    </tr>\n",
       "  </thead>\n",
       "  <tbody>\n",
       "    <tr>\n",
       "      <th>119</th>\n",
       "      <td>[{live, cost}]</td>\n",
       "      <td>4124</td>\n",
       "      <td>0</td>\n",
       "    </tr>\n",
       "    <tr>\n",
       "      <th>101</th>\n",
       "      <td>[{confid}]</td>\n",
       "      <td>3867</td>\n",
       "      <td>1</td>\n",
       "    </tr>\n",
       "    <tr>\n",
       "      <th>104</th>\n",
       "      <td>[{work}]</td>\n",
       "      <td>3579</td>\n",
       "      <td>2</td>\n",
       "    </tr>\n",
       "    <tr>\n",
       "      <th>62</th>\n",
       "      <td>[{break}]</td>\n",
       "      <td>3164</td>\n",
       "      <td>3</td>\n",
       "    </tr>\n",
       "    <tr>\n",
       "      <th>68</th>\n",
       "      <td>[{eu}]</td>\n",
       "      <td>2988</td>\n",
       "      <td>4</td>\n",
       "    </tr>\n",
       "  </tbody>\n",
       "</table>\n",
       "</div>"
      ],
      "text/plain": [
       "               rule  matches  id\n",
       "119  [{live, cost}]     4124   0\n",
       "101      [{confid}]     3867   1\n",
       "104        [{work}]     3579   2\n",
       "62        [{break}]     3164   3\n",
       "68           [{eu}]     2988   4"
      ]
     },
     "execution_count": 339,
     "metadata": {},
     "output_type": "execute_result"
    }
   ],
   "source": [
    "rules_df = rules_df[rules_df.matches > MIN_CLUSTER_SIZE]\n",
    "rules_df['id'] = range(rules_df.shape[0])\n",
    "rules_df.head(5)"
   ]
  },
  {
   "cell_type": "code",
   "execution_count": 340,
   "metadata": {},
   "outputs": [
    {
     "data": {
      "text/plain": [
       "60946"
      ]
     },
     "execution_count": 340,
     "metadata": {},
     "output_type": "execute_result"
    }
   ],
   "source": [
    "# Check the number of tweets that entered a cluster.  Previous analysis suggests around 40% should do so.\n",
    "np.sum(\n",
    "    np.vstack(\n",
    "        [find_rule_matches(r, dct, M) for r in rules_df.rule]\n",
    "    ).sum(axis=0) > 0\n",
    ")"
   ]
  },
  {
   "cell_type": "markdown",
   "metadata": {},
   "source": [
    "#### Exploratory Test: Sample some tweets from a rule"
   ]
  },
  {
   "cell_type": "code",
   "execution_count": 341,
   "metadata": {},
   "outputs": [],
   "source": [
    "def print_rule(rule, tfidf_matrix, dct, num_values_to_print=None):\n",
    "    \n",
    "    print(rule)\n",
    "    print(\"\\n+++\\n\")    \n",
    "    \n",
    "    rule_tokens = [[dct.token2id[t] for t in r] for r in rule]\n",
    "    \n",
    "    matches = np.hstack(\n",
    "        [tfidf_matrix[:, rt].prod(axis=1) for rt in rule_tokens]\n",
    "    ).sum(axis=1).A.ravel().astype(bool)    \n",
    "    \n",
    "    tweets = df.preprocessed_text.values[matches]\n",
    "    \n",
    "    if num_values_to_print:\n",
    "        num_values_to_print = min(len(tweets), num_values_to_print)\n",
    "    else:\n",
    "        num_values_to_print = len(tweets)\n",
    "    \n",
    "    tweets = np.random.choice(tweets, size=num_values_to_print, replace=False)\n",
    "    \n",
    "    for t in tweets:\n",
    "        print(t)    \n",
    "        print(\"\\n***\")"
   ]
  },
  {
   "cell_type": "code",
   "execution_count": 342,
   "metadata": {
    "tags": []
   },
   "outputs": [
    {
     "name": "stdout",
     "output_type": "stream",
     "text": [
      "[{'work'}]\n",
      "\n",
      "+++\n",
      "\n",
      "The point is you claimed she wasnt paid maternity leave it turns out she is The average UK wage is £38 131 Stella gets twice that plus expenses can work from home and has a partner There are women all over the country on lesser wages some with no partner who manage\n",
      "\n",
      "***\n",
      "As a non driver disability who relies on public transport to get around Scotland I dont have the option to take to my car and pay high petrol prices just to commute to work Scot Govs failure here marginalises so many people who cannot access employment without transport\n",
      "\n",
      "***\n",
      "Big Oil is gouging working families + driving inflation w its profiteering We must hold companies accountable + crack down on the fossilfueled greed driving this energy crisis My take on todays vote Next up taxing windfall profits\n",
      "\n",
      "***\n",
      "Did he get it at a work meeting DoeSue Gray have to investigate firts Boo hoo poor Boris Johnson had food poisoning before his interview with Susanna Reid as if\n",
      "\n",
      "***\n",
      "Do we need MPs or any politician why support robbing constituents £50k approx robbed from EACH 50s womens household Their pension lt £9k PER ANNUM robbed after a life of work and paying contributions Full restitution 50women Tory Nadhim Zahawi cant say who arranged secret talks between Boris Johnson and Sue Gray\n",
      "\n",
      "***\n"
     ]
    }
   ],
   "source": [
    "rule_id = 2\n",
    "rule = rules_df.rule.values[rule_id]\n",
    "print_rule(rule, M, dct, num_values_to_print=5)"
   ]
  },
  {
   "cell_type": "markdown",
   "metadata": {
    "tags": []
   },
   "source": [
    "# Clustering Narratives into Topics\n",
    "\n",
    "We construct a binary \"match matrix\", $X$, with `n_narratives` rows and $N=$ `n_docs` columns.  A value of $X_{i,j} = 1$ indicates that document $j$ matches narrative search function $i$.\n",
    "\n",
    "We then evaluate the matrix:\n",
    "\n",
    "\\begin{align}\n",
    "Z &= \\left(XX^T\\right)Y \\\\\n",
    "\\text{where } Y_{i,i} &= \\frac{1}{\\sum_{n=1}^{N} X_{i,n}}\n",
    "\\end{align}\n",
    "\n",
    "The value $Z_{i,j}$ is therefore equal to the number of common tweets matched by narratives $i$ and $j$, divided by the number of tweets matched by narrative $j$.  In other words, it measure the the percentage of $j$'s matches that also appear in $i$.  From this we can establish the following:\n",
    "\n",
    "- If $Z_{i,j}$ is close to $0$ but $Z{j,i}$ is close to $1$, this would indicate that narrative $i$ is a sub-narrative of narrative $j$.\n",
    "- If both $Z_{i,j}$ and $Z{j,i}$ are close to $0$, then they are dissimilar narratives.\n",
    "- If both $Z_{i,j}$ and $Z{j,i}$ are close to $1$, then they are probably the same narrative.\n",
    "\n",
    "We construct a graph where our nodes are the narratives and our (weighted) edges are: $\\text{weight}\\left(e_{i \\rightarrow j}\\right) = Z_{i,j}$."
   ]
  },
  {
   "cell_type": "code",
   "execution_count": 286,
   "metadata": {},
   "outputs": [],
   "source": [
    "from tqdm import tqdm\n",
    "import networkx as nx\n",
    "from networkx import NetworkXError\n",
    "\n",
    "def generate_narrative_graph(rules_df, tfidf_matrix, dct, topic_edge_weight_threshold=0.25):\n",
    "    \n",
    "    # Edge iterator for the graph\n",
    "    def gen_edges():\n",
    "        match_matrix = np.vstack([find_rule_matches(r, dct, tfidf_matrix) for r in rules_df.rule]).astype(int)\n",
    "        intersections = match_matrix.dot(match_matrix.transpose())\n",
    "        norm_matrix = np.diag(1. / match_matrix.sum(axis=1))\n",
    "        edge_weights = intersections.dot(norm_matrix)\n",
    "        for i,j in zip(*edge_weights.nonzero()):\n",
    "            if i!= j and edge_weights[i,j] > topic_edge_weight_threshold:\n",
    "                yield i, j, edge_weights[i,j]\n",
    "    \n",
    "    G = nx.DiGraph()\n",
    "\n",
    "    for i,j,w in gen_edges():\n",
    "        G.add_edge(i, j, weight=w)\n",
    "    \n",
    "    for idx, rule in enumerate(rules_df.rule):\n",
    "        G.add_node(idx, rule=rule)\n",
    "\n",
    "    print(f\"Vertices: [{G.number_of_nodes()}], Edges: [{G.number_of_edges()}]\")\n",
    "    \n",
    "    return G"
   ]
  },
  {
   "cell_type": "code",
   "execution_count": 287,
   "metadata": {},
   "outputs": [
    {
     "name": "stdout",
     "output_type": "stream",
     "text": [
      "Vertices: [139], Edges: [264]\n"
     ]
    }
   ],
   "source": [
    "narrative_G = generate_narrative_graph(rules_df, M, dct)"
   ]
  },
  {
   "cell_type": "markdown",
   "metadata": {},
   "source": [
    "Narrative clusters are now the connected components of the narratives graph."
   ]
  },
  {
   "cell_type": "code",
   "execution_count": 289,
   "metadata": {},
   "outputs": [],
   "source": [
    "connected_components = enumerate(nx.connected_components(nx.Graph(narrative_G)))\n",
    "\n",
    "def collapse_search_function(narrative_ids):\n",
    "    return [\n",
    "        t\n",
    "        for n in narrative_G.subgraph(narrative_ids).nodes.data()\n",
    "        for t in n[1]['rule']\n",
    "    ]\n",
    "\n",
    "narrative_cluster_map = {\n",
    "    narrative_id: collapse_search_function(narrative_ids)\n",
    "    for narrative_cluster_id, narrative_ids in connected_components\n",
    "    for narrative_id in narrative_ids\n",
    "}\n",
    "\n",
    "rules_df['narrative_cluster'] = rules_df.id.map(narrative_cluster_map)"
   ]
  },
  {
   "cell_type": "code",
   "execution_count": 292,
   "metadata": {},
   "outputs": [
    {
     "data": {
      "text/html": [
       "<div>\n",
       "<style scoped>\n",
       "    .dataframe tbody tr th:only-of-type {\n",
       "        vertical-align: middle;\n",
       "    }\n",
       "\n",
       "    .dataframe tbody tr th {\n",
       "        vertical-align: top;\n",
       "    }\n",
       "\n",
       "    .dataframe thead th {\n",
       "        text-align: right;\n",
       "    }\n",
       "</style>\n",
       "<table border=\"1\" class=\"dataframe\">\n",
       "  <thead>\n",
       "    <tr style=\"text-align: right;\">\n",
       "      <th></th>\n",
       "      <th>rule</th>\n",
       "      <th>matches</th>\n",
       "      <th>id</th>\n",
       "      <th>narrative_cluster</th>\n",
       "    </tr>\n",
       "  </thead>\n",
       "  <tbody>\n",
       "    <tr>\n",
       "      <th>99</th>\n",
       "      <td>[{inflat}]</td>\n",
       "      <td>12903</td>\n",
       "      <td>0</td>\n",
       "      <td>[{inflat}, {price}, {economi}, {tax}, {9}, {inflat, 10}, {inflat, year}, {wage}, {inflat, pai}, {inflat, work}, {ga}, {petrol}, {fuel, price}, {ra...</td>\n",
       "    </tr>\n",
       "    <tr>\n",
       "      <th>118</th>\n",
       "      <td>[{brexit}]</td>\n",
       "      <td>8720</td>\n",
       "      <td>1</td>\n",
       "      <td>[{inflat}, {price}, {economi}, {tax}, {9}, {inflat, 10}, {inflat, year}, {wage}, {inflat, pai}, {inflat, work}, {ga}, {petrol}, {fuel, price}, {ra...</td>\n",
       "    </tr>\n",
       "    <tr>\n",
       "      <th>90</th>\n",
       "      <td>[{vote}]</td>\n",
       "      <td>7067</td>\n",
       "      <td>2</td>\n",
       "      <td>[{inflat}, {price}, {economi}, {tax}, {9}, {inflat, 10}, {inflat, year}, {wage}, {inflat, pai}, {inflat, work}, {ga}, {petrol}, {fuel, price}, {ra...</td>\n",
       "    </tr>\n",
       "    <tr>\n",
       "      <th>134</th>\n",
       "      <td>[{food}]</td>\n",
       "      <td>6258</td>\n",
       "      <td>3</td>\n",
       "      <td>[{inflat}, {price}, {economi}, {tax}, {9}, {inflat, 10}, {inflat, year}, {wage}, {inflat, pai}, {inflat, work}, {ga}, {petrol}, {fuel, price}, {ra...</td>\n",
       "    </tr>\n",
       "    <tr>\n",
       "      <th>123</th>\n",
       "      <td>[{parti}]</td>\n",
       "      <td>6239</td>\n",
       "      <td>4</td>\n",
       "      <td>[{inflat}, {price}, {economi}, {tax}, {9}, {inflat, 10}, {inflat, year}, {wage}, {inflat, pai}, {inflat, work}, {ga}, {petrol}, {fuel, price}, {ra...</td>\n",
       "    </tr>\n",
       "  </tbody>\n",
       "</table>\n",
       "</div>"
      ],
      "text/plain": [
       "           rule  matches  id  \\\n",
       "99   [{inflat}]    12903   0   \n",
       "118  [{brexit}]     8720   1   \n",
       "90     [{vote}]     7067   2   \n",
       "134    [{food}]     6258   3   \n",
       "123   [{parti}]     6239   4   \n",
       "\n",
       "                                                                                                                                         narrative_cluster  \n",
       "99   [{inflat}, {price}, {economi}, {tax}, {9}, {inflat, 10}, {inflat, year}, {wage}, {inflat, pai}, {inflat, work}, {ga}, {petrol}, {fuel, price}, {ra...  \n",
       "118  [{inflat}, {price}, {economi}, {tax}, {9}, {inflat, 10}, {inflat, year}, {wage}, {inflat, pai}, {inflat, work}, {ga}, {petrol}, {fuel, price}, {ra...  \n",
       "90   [{inflat}, {price}, {economi}, {tax}, {9}, {inflat, 10}, {inflat, year}, {wage}, {inflat, pai}, {inflat, work}, {ga}, {petrol}, {fuel, price}, {ra...  \n",
       "134  [{inflat}, {price}, {economi}, {tax}, {9}, {inflat, 10}, {inflat, year}, {wage}, {inflat, pai}, {inflat, work}, {ga}, {petrol}, {fuel, price}, {ra...  \n",
       "123  [{inflat}, {price}, {economi}, {tax}, {9}, {inflat, 10}, {inflat, year}, {wage}, {inflat, pai}, {inflat, work}, {ga}, {petrol}, {fuel, price}, {ra...  "
      ]
     },
     "execution_count": 292,
     "metadata": {},
     "output_type": "execute_result"
    }
   ],
   "source": [
    "rules_df.head(5)"
   ]
  },
  {
   "cell_type": "markdown",
   "metadata": {},
   "source": [
    "## Add sub-narrative relationships\n",
    "\n",
    "We define a narrative to be a sub-narrative of a parent if the parent contains > 90% of the child's tweets, but the converse is not true."
   ]
  },
  {
   "cell_type": "code",
   "execution_count": 293,
   "metadata": {},
   "outputs": [],
   "source": [
    "def find_parent(n_j):\n",
    "    for e_ij in narrative_G.in_edges(n_j):\n",
    "        n_i = e_ij[0]\n",
    "        if narrative_G.edges[e_ij]['weight'] > 0.8 and not narrative_G.has_edge(n_j, n_i):\n",
    "            return narrative_G.nodes[n_i]['rule']\n",
    "    return narrative_G.nodes[n_j]['rule']"
   ]
  },
  {
   "cell_type": "code",
   "execution_count": 294,
   "metadata": {},
   "outputs": [],
   "source": [
    "rules_df['parent'] = rules_df.id.apply(find_parent)"
   ]
  },
  {
   "cell_type": "markdown",
   "metadata": {},
   "source": [
    "## Summarization"
   ]
  },
  {
   "cell_type": "markdown",
   "metadata": {},
   "source": [
    "### Summarisation by Cosine Similarity"
   ]
  },
  {
   "cell_type": "code",
   "execution_count": 295,
   "metadata": {},
   "outputs": [],
   "source": [
    "from sklearn.metrics.pairwise import cosine_similarity\n",
    "\n",
    "def canonical_tweet(rule, dct, tfidf_matrix, df):\n",
    "    matches = find_rule_matches(rule, dct, tfidf_matrix)\n",
    "    match_args = np.argwhere(matches).ravel()\n",
    "    sum_of_sim = cosine_similarity(tfidf_matrix[match_args, :]).sum(axis=0)    \n",
    "    canonical_idx = match_args[np.argmax(sum_of_sim)]\n",
    "    return df.preprocessed_text.values[canonical_idx]"
   ]
  },
  {
   "cell_type": "code",
   "execution_count": 296,
   "metadata": {},
   "outputs": [
    {
     "data": {
      "text/html": [
       "<div>\n",
       "<style scoped>\n",
       "    .dataframe tbody tr th:only-of-type {\n",
       "        vertical-align: middle;\n",
       "    }\n",
       "\n",
       "    .dataframe tbody tr th {\n",
       "        vertical-align: top;\n",
       "    }\n",
       "\n",
       "    .dataframe thead th {\n",
       "        text-align: right;\n",
       "    }\n",
       "</style>\n",
       "<table border=\"1\" class=\"dataframe\">\n",
       "  <thead>\n",
       "    <tr style=\"text-align: right;\">\n",
       "      <th></th>\n",
       "      <th>rule</th>\n",
       "      <th>matches</th>\n",
       "      <th>id</th>\n",
       "      <th>narrative_cluster</th>\n",
       "      <th>parent</th>\n",
       "      <th>canonical_tweet</th>\n",
       "    </tr>\n",
       "  </thead>\n",
       "  <tbody>\n",
       "    <tr>\n",
       "      <th>99</th>\n",
       "      <td>[{inflat}]</td>\n",
       "      <td>12903</td>\n",
       "      <td>0</td>\n",
       "      <td>[{inflat}, {price}, {economi}, {tax}, {9}, {inflat, 10}, {inflat, year}, {wage}, {inflat, pai}, {inflat, work}, {ga}, {petrol}, {fuel, price}, {ra...</td>\n",
       "      <td>[{inflat}]</td>\n",
       "      <td>$28 now JFC inflation</td>\n",
       "    </tr>\n",
       "    <tr>\n",
       "      <th>95</th>\n",
       "      <td>[{integr}]</td>\n",
       "      <td>787</td>\n",
       "      <td>101</td>\n",
       "      <td>[{inflat}, {price}, {economi}, {tax}, {9}, {inflat, 10}, {inflat, year}, {wage}, {inflat, pai}, {inflat, work}, {ga}, {petrol}, {fuel, price}, {ra...</td>\n",
       "      <td>[{integr}]</td>\n",
       "      <td>Boris Johnson Buzz Lightyear but without his integrity</td>\n",
       "    </tr>\n",
       "    <tr>\n",
       "      <th>92</th>\n",
       "      <td>[{rishi}]</td>\n",
       "      <td>790</td>\n",
       "      <td>100</td>\n",
       "      <td>[{inflat}, {price}, {economi}, {tax}, {9}, {inflat, 10}, {inflat, year}, {wage}, {inflat, pai}, {inflat, work}, {ga}, {petrol}, {fuel, price}, {ra...</td>\n",
       "      <td>[{rishi}]</td>\n",
       "      <td>Rishi Sunak and Boris Johnson</td>\n",
       "    </tr>\n",
       "    <tr>\n",
       "      <th>67</th>\n",
       "      <td>[{export}]</td>\n",
       "      <td>829</td>\n",
       "      <td>99</td>\n",
       "      <td>[{inflat}, {price}, {economi}, {tax}, {9}, {inflat, 10}, {inflat, year}, {wage}, {inflat, pai}, {inflat, work}, {ga}, {petrol}, {fuel, price}, {ra...</td>\n",
       "      <td>[{export}]</td>\n",
       "      <td>Its not prices of exports</td>\n",
       "    </tr>\n",
       "    <tr>\n",
       "      <th>94</th>\n",
       "      <td>[{american}]</td>\n",
       "      <td>849</td>\n",
       "      <td>98</td>\n",
       "      <td>[{inflat}, {price}, {economi}, {tax}, {9}, {inflat, 10}, {inflat, year}, {wage}, {inflat, pai}, {inflat, work}, {ga}, {petrol}, {fuel, price}, {ra...</td>\n",
       "      <td>[{american}]</td>\n",
       "      <td>Americans are pessimistic about inflation and the economy but Biden is only making it worse</td>\n",
       "    </tr>\n",
       "    <tr>\n",
       "      <th>117</th>\n",
       "      <td>[{letter}]</td>\n",
       "      <td>872</td>\n",
       "      <td>97</td>\n",
       "      <td>[{inflat}, {price}, {economi}, {tax}, {9}, {inflat, 10}, {inflat, year}, {wage}, {inflat, pai}, {inflat, work}, {ga}, {petrol}, {fuel, price}, {ra...</td>\n",
       "      <td>[{letter}]</td>\n",
       "      <td>Tmes letters on Boris Johnson</td>\n",
       "    </tr>\n",
       "    <tr>\n",
       "      <th>54</th>\n",
       "      <td>[{highest}]</td>\n",
       "      <td>877</td>\n",
       "      <td>96</td>\n",
       "      <td>[{inflat}, {price}, {economi}, {tax}, {9}, {inflat, 10}, {inflat, year}, {wage}, {inflat, pai}, {inflat, work}, {ga}, {petrol}, {fuel, price}, {ra...</td>\n",
       "      <td>[{highest}]</td>\n",
       "      <td>Highest inflation for 40 years</td>\n",
       "    </tr>\n",
       "    <tr>\n",
       "      <th>104</th>\n",
       "      <td>[{civil}]</td>\n",
       "      <td>905</td>\n",
       "      <td>95</td>\n",
       "      <td>[{000}, {civil}]</td>\n",
       "      <td>[{civil}]</td>\n",
       "      <td>Boris Johnson orders cuts to around 90 000 civil service jobs</td>\n",
       "    </tr>\n",
       "    <tr>\n",
       "      <th>81</th>\n",
       "      <td>[{carri}]</td>\n",
       "      <td>948</td>\n",
       "      <td>94</td>\n",
       "      <td>[{carri}]</td>\n",
       "      <td>[{carri}]</td>\n",
       "      <td>Boris and Carrie Johnson are there why</td>\n",
       "    </tr>\n",
       "    <tr>\n",
       "      <th>60</th>\n",
       "      <td>[{russian}]</td>\n",
       "      <td>957</td>\n",
       "      <td>93</td>\n",
       "      <td>[{inflat}, {price}, {economi}, {tax}, {9}, {inflat, 10}, {inflat, year}, {wage}, {inflat, pai}, {inflat, work}, {ga}, {petrol}, {fuel, price}, {ra...</td>\n",
       "      <td>[{russian}]</td>\n",
       "      <td>Boris Johnson Oh he really is Russian</td>\n",
       "    </tr>\n",
       "  </tbody>\n",
       "</table>\n",
       "</div>"
      ],
      "text/plain": [
       "             rule  matches   id  \\\n",
       "99     [{inflat}]    12903    0   \n",
       "95     [{integr}]      787  101   \n",
       "92      [{rishi}]      790  100   \n",
       "67     [{export}]      829   99   \n",
       "94   [{american}]      849   98   \n",
       "117    [{letter}]      872   97   \n",
       "54    [{highest}]      877   96   \n",
       "104     [{civil}]      905   95   \n",
       "81      [{carri}]      948   94   \n",
       "60    [{russian}]      957   93   \n",
       "\n",
       "                                                                                                                                         narrative_cluster  \\\n",
       "99   [{inflat}, {price}, {economi}, {tax}, {9}, {inflat, 10}, {inflat, year}, {wage}, {inflat, pai}, {inflat, work}, {ga}, {petrol}, {fuel, price}, {ra...   \n",
       "95   [{inflat}, {price}, {economi}, {tax}, {9}, {inflat, 10}, {inflat, year}, {wage}, {inflat, pai}, {inflat, work}, {ga}, {petrol}, {fuel, price}, {ra...   \n",
       "92   [{inflat}, {price}, {economi}, {tax}, {9}, {inflat, 10}, {inflat, year}, {wage}, {inflat, pai}, {inflat, work}, {ga}, {petrol}, {fuel, price}, {ra...   \n",
       "67   [{inflat}, {price}, {economi}, {tax}, {9}, {inflat, 10}, {inflat, year}, {wage}, {inflat, pai}, {inflat, work}, {ga}, {petrol}, {fuel, price}, {ra...   \n",
       "94   [{inflat}, {price}, {economi}, {tax}, {9}, {inflat, 10}, {inflat, year}, {wage}, {inflat, pai}, {inflat, work}, {ga}, {petrol}, {fuel, price}, {ra...   \n",
       "117  [{inflat}, {price}, {economi}, {tax}, {9}, {inflat, 10}, {inflat, year}, {wage}, {inflat, pai}, {inflat, work}, {ga}, {petrol}, {fuel, price}, {ra...   \n",
       "54   [{inflat}, {price}, {economi}, {tax}, {9}, {inflat, 10}, {inflat, year}, {wage}, {inflat, pai}, {inflat, work}, {ga}, {petrol}, {fuel, price}, {ra...   \n",
       "104                                                                                                                                       [{000}, {civil}]   \n",
       "81                                                                                                                                               [{carri}]   \n",
       "60   [{inflat}, {price}, {economi}, {tax}, {9}, {inflat, 10}, {inflat, year}, {wage}, {inflat, pai}, {inflat, work}, {ga}, {petrol}, {fuel, price}, {ra...   \n",
       "\n",
       "           parent  \\\n",
       "99     [{inflat}]   \n",
       "95     [{integr}]   \n",
       "92      [{rishi}]   \n",
       "67     [{export}]   \n",
       "94   [{american}]   \n",
       "117    [{letter}]   \n",
       "54    [{highest}]   \n",
       "104     [{civil}]   \n",
       "81      [{carri}]   \n",
       "60    [{russian}]   \n",
       "\n",
       "                                                                                 canonical_tweet  \n",
       "99                                                                         $28 now JFC inflation  \n",
       "95                                        Boris Johnson Buzz Lightyear but without his integrity  \n",
       "92                                                                 Rishi Sunak and Boris Johnson  \n",
       "67                                                                     Its not prices of exports  \n",
       "94   Americans are pessimistic about inflation and the economy but Biden is only making it worse  \n",
       "117                                                                Tmes letters on Boris Johnson  \n",
       "54                                                                Highest inflation for 40 years  \n",
       "104                                Boris Johnson orders cuts to around 90 000 civil service jobs  \n",
       "81                                                        Boris and Carrie Johnson are there why  \n",
       "60                                                         Boris Johnson Oh he really is Russian  "
      ]
     },
     "execution_count": 296,
     "metadata": {},
     "output_type": "execute_result"
    }
   ],
   "source": [
    "rules_df['canonical_tweet'] = [canonical_tweet(rule, dct, M, df) for rule in rules_df.rule.values]\n",
    "rules_df.sort_values('narrative_cluster').head(10)"
   ]
  },
  {
   "cell_type": "markdown",
   "metadata": {},
   "source": [
    "# Outputs\n",
    "\n",
    "Generate a CSV containing each topic, together with a sample of associated tweets.  This can be turned into an Excel pivot table for human analysis."
   ]
  },
  {
   "cell_type": "code",
   "execution_count": 297,
   "metadata": {
    "tags": []
   },
   "outputs": [],
   "source": [
    "def gen_output(rules_df, df, tfidf_matrix, dct, sample_size):\n",
    "        \n",
    "    for _, row in rules_df.iterrows():\n",
    "        matches = find_rule_matches(row.rule, dct, tfidf_matrix)\n",
    "        tweets = df.preprocessed_text.values[matches]        \n",
    "        sample = np.random.choice(tweets, min(sample_size, matches.sum()))\n",
    "\n",
    "        for s in sample:\n",
    "            yield {\n",
    "                'cluster': str(row.rule),\n",
    "                'cluster_size': matches.sum(), # to help Excel sort them\n",
    "                'preprocessed_text': s\n",
    "            }"
   ]
  },
  {
   "cell_type": "code",
   "execution_count": 298,
   "metadata": {},
   "outputs": [
    {
     "name": "stdout",
     "output_type": "stream",
     "text": [
      "output_df has 2780 rows.\n"
     ]
    }
   ],
   "source": [
    "output_df = pd.DataFrame(gen_output(rules_df, df, M, dct, 20))\n",
    "print(f\"output_df has {output_df.shape[0]} rows.\")"
   ]
  },
  {
   "cell_type": "code",
   "execution_count": 300,
   "metadata": {},
   "outputs": [],
   "source": [
    "rules_df.to_csv(f\"./outputs/{DATASET_METADATA['NAME']}_BAL.csv\", index=False)"
   ]
  },
  {
   "cell_type": "markdown",
   "metadata": {},
   "source": [
    "# Further Fine-Tuning\n",
    "\n",
    "Assumes that we have a model in memory."
   ]
  },
  {
   "cell_type": "code",
   "execution_count": null,
   "metadata": {},
   "outputs": [],
   "source": [
    "# Generate a training dataset suitable for using the Online Contrastive Loss\n",
    "\n",
    "def gen_ocl_dataset(rules_df, df, tfidf_matrix, dct, sample_size):\n",
    "    \n",
    "    for _, row in rules_df.iterrows():\n",
    "        n_docs = tfidf_matrix.shape[0]\n",
    "        tokens = [[dct.token2id[t] for t in r] for r in row.rule]        \n",
    "        rule_tokens = [[dct.token2id[t] for t in r] for r in row.rule]\n",
    "        matches = np.hstack([tfidf_matrix[:, rt].prod(axis=1) for rt in rule_tokens]).sum(axis=1).A.ravel().astype(bool)\n",
    "        narrative_tweets = df.preprocessed_text.values[matches]\n",
    "        non_narrative_tweets = df.preprocessed_text.values[~matches]\n",
    "        pos_sample_1 = np.random.choice(narrative_tweets, size=sample_size, replace=True)\n",
    "        pos_sample_2 = np.random.choice(narrative_tweets, size=sample_size, replace=True)\n",
    "\n",
    "        for t1, t2 in zip(pos_sample_1, pos_sample_2):\n",
    "            yield InputExample(texts=[t1, t2], label=1) \n",
    "\n",
    "        neg_sample = np.random.choice(non_narrative_tweets, size=sample_size, replace=True)\n",
    "        \n",
    "        for t1, t2 in zip(pos_sample_1, neg_sample):\n",
    "            yield InputExample(texts=[t1, t2], label=0) "
   ]
  },
  {
   "cell_type": "code",
   "execution_count": null,
   "metadata": {},
   "outputs": [],
   "source": [
    "train_data = list(gen_ocl_dataset(rules_df, df, X, dct, sample_size=1000))\n",
    "print(len(train_data))"
   ]
  },
  {
   "cell_type": "code",
   "execution_count": null,
   "metadata": {},
   "outputs": [],
   "source": [
    "N_TRAINING_EPOCHS = 3\n",
    "\n",
    "from sentence_transformers import SentenceTransformer, InputExample\n",
    "from sentence_transformers import models, losses\n",
    "from torch.utils.data import DataLoader\n",
    "\n",
    "train_dataloader = DataLoader(train_data, batch_size=128, shuffle=True)\n",
    "\n",
    "train_loss = losses.OnlineContrastiveLoss(model)\n",
    "\n",
    "model.fit(\n",
    "    train_objectives=[(train_dataloader, train_loss)],\n",
    "    epochs=N_TRAINING_EPOCHS,\n",
    "    show_progress_bar=True\n",
    ")\n",
    "\n",
    "model.save(f\"./transformers/model_[{DATASET_METADATA['NAME']}]\")"
   ]
  },
  {
   "cell_type": "code",
   "execution_count": null,
   "metadata": {},
   "outputs": [],
   "source": [
    "REBUILD = True"
   ]
  },
  {
   "cell_type": "markdown",
   "metadata": {},
   "source": [
    "# SCRATCH AREA"
   ]
  },
  {
   "cell_type": "markdown",
   "metadata": {},
   "source": [
    "## Visualise Rules"
   ]
  },
  {
   "cell_type": "code",
   "execution_count": null,
   "metadata": {},
   "outputs": [],
   "source": [
    "num_topics = rules_df.shape[0]"
   ]
  },
  {
   "cell_type": "code",
   "execution_count": null,
   "metadata": {},
   "outputs": [],
   "source": [
    "def gen_rule_viz(rules_df, df, tfidf_matrix, dct, embedding):\n",
    "    \n",
    "    for _, row in tqdm(rules_df.iterrows(), total=rules_df.shape[0]):\n",
    "        n_docs = tfidf_matrix.shape[0]\n",
    "        tokens = [[dct.token2id[t] for t in r] for r in row.rule]        \n",
    "        rule_tokens = [[dct.token2id[t] for t in r] for r in row.rule]\n",
    "        matches = np.hstack([tfidf_matrix[:, rt].prod(axis=1) for rt in rule_tokens]).sum(axis=1).A.ravel().astype(bool)\n",
    "        mean_vec = embedding.get_mean_vector(matches)\n",
    "        yield mean_vec"
   ]
  },
  {
   "cell_type": "code",
   "execution_count": null,
   "metadata": {},
   "outputs": [],
   "source": [
    "topic_vecs = np.vstack(list(gen_rule_viz(rules_df, df, M, dct, embedding)))"
   ]
  },
  {
   "cell_type": "code",
   "execution_count": null,
   "metadata": {},
   "outputs": [],
   "source": [
    "import umap\n",
    "\n",
    "dim_mapper = umap.UMAP(\n",
    "    n_neighbors=5,\n",
    "    metric='cosine',\n",
    "    min_dist=0.,\n",
    "    n_components=2,\n",
    "    random_state=RANDOM_SEED,\n",
    ").fit(topic_vecs)\n",
    "\n",
    "U = dim_mapper.transform(topic_vecs)"
   ]
  },
  {
   "cell_type": "code",
   "execution_count": null,
   "metadata": {},
   "outputs": [],
   "source": [
    "rules_df['x'] = U[:, 0]\n",
    "rules_df['y'] = U[:, 1]\n",
    "\n",
    "ax = sns.scatterplot(\n",
    "    data=rules_df, \n",
    "    x=\"x\", \n",
    "    y=\"y\", \n",
    "    size=\"matches\", \n",
    "    legend=False, \n",
    "    sizes=(20, 10000)\n",
    ")\n",
    "\n",
    "def label_point(x, y, val, ax):\n",
    "    a = pd.concat({'x': x, 'y': y, 'val': val}, axis=1)\n",
    "    for i, point in a.iterrows():\n",
    "        ax.text(point['x']+.02, point['y'], str(point['val']))\n",
    "\n",
    "label_point(rules_df.x, rules_df.y, rules_df.rule, plt.gca())"
   ]
  },
  {
   "cell_type": "markdown",
   "metadata": {},
   "source": [
    "### Groups of topics using UMAP"
   ]
  },
  {
   "cell_type": "code",
   "execution_count": null,
   "metadata": {},
   "outputs": [],
   "source": [
    "import hdbscan\n",
    "import numpy as np\n",
    "\n",
    "clusterer = hdbscan.HDBSCAN(\n",
    "    min_cluster_size=2, \n",
    "    #alpha=1e2,\n",
    "    cluster_selection_epsilon=.1,\n",
    "    cluster_selection_method='leaf'\n",
    ")\n",
    "\n",
    "clusterer.fit(U)\n",
    "\n",
    "plt.scatter(U[:,0], U[:,1], s=1, c=clusterer.labels_)"
   ]
  },
  {
   "cell_type": "code",
   "execution_count": null,
   "metadata": {},
   "outputs": [],
   "source": [
    "from itertools import groupby\n",
    "\n",
    "topic_clusters = [\n",
    "    [topic_id for _, topic_id in members]\n",
    "    for topic_cluster_id, members\n",
    "    in groupby(sorted(zip(clusterer.labels_, range(num_topics))), lambda x: x[0])\n",
    "    if topic_cluster_id != -1\n",
    "]\n",
    "\n",
    "topic_cluster_sizes = pd.Series({k: len(v) for k,v in enumerate(topic_clusters)})"
   ]
  },
  {
   "cell_type": "code",
   "execution_count": null,
   "metadata": {},
   "outputs": [],
   "source": [
    "sns.displot(topic_cluster_sizes)"
   ]
  },
  {
   "cell_type": "code",
   "execution_count": null,
   "metadata": {},
   "outputs": [],
   "source": [
    "def sample_topic_cluster(topic_cluster_id, topic_clusters, rules_df):\n",
    "    topics = topic_clusters[topic_cluster_id]\n",
    "    for t in topics:\n",
    "        yield rules_df.rule.values[t]"
   ]
  },
  {
   "cell_type": "code",
   "execution_count": null,
   "metadata": {},
   "outputs": [],
   "source": [
    "for rule in sample_topic_cluster(3, topic_clusters, rules_df):\n",
    "    print(rule)"
   ]
  },
  {
   "cell_type": "code",
   "execution_count": null,
   "metadata": {
    "tags": []
   },
   "outputs": [],
   "source": [
    "for rule in sample_topic_cluster(3, topic_clusters, rules_df):\n",
    "    print_rule(rule, M, dct, num_values_to_print=10)"
   ]
  },
  {
   "cell_type": "code",
   "execution_count": 153,
   "metadata": {},
   "outputs": [],
   "source": [
    "import networkx as nx\n",
    "\n",
    "# Edge export\n",
    "(\n",
    "    nx.to_pandas_edgelist(narrative_G)\n",
    "    .rename(axis='columns', mapper={'source': 'Source', 'target': 'Target', 'weight': 'Weight'})\n",
    "    .to_csv(f\"./outputs/{DATASET_METADATA['NAME']}_BAL_network_viz__edges.csv\", index=False)\n",
    ")\n",
    "\n",
    "# Vertex export\n",
    "pd.DataFrame({\n",
    "    'Id': range(rules_df.shape[0]),\n",
    "    'Label': rules_df.rule.apply(str),\n",
    "    'Size': rules_df.matches\n",
    "}).to_csv(f\"./outputs/{DATASET_METADATA['NAME']}_BAL_network_viz__vertices.csv\", index=False)"
   ]
  },
  {
   "cell_type": "markdown",
   "metadata": {},
   "source": [
    "### Summarization by transformers"
   ]
  },
  {
   "cell_type": "code",
   "execution_count": 174,
   "metadata": {
    "collapsed": true,
    "jupyter": {
     "outputs_hidden": true
    },
    "tags": []
   },
   "outputs": [
    {
     "data": {
      "application/vnd.jupyter.widget-view+json": {
       "model_id": "fe76e61e3bdd492c9b5ce4fa04e2c955",
       "version_major": 2,
       "version_minor": 0
      },
      "text/plain": [
       "Downloading:   0%|          | 0.00/944M [00:00<?, ?B/s]"
      ]
     },
     "metadata": {},
     "output_type": "display_data"
    },
    {
     "ename": "KeyboardInterrupt",
     "evalue": "",
     "output_type": "error",
     "traceback": [
      "\u001b[1;31m---------------------------------------------------------------------------\u001b[0m",
      "\u001b[1;31mKeyboardInterrupt\u001b[0m                         Traceback (most recent call last)",
      "\u001b[1;32m~\\AppData\\Local\\Temp\\ipykernel_996\\2816415765.py\u001b[0m in \u001b[0;36m<module>\u001b[1;34m\u001b[0m\n\u001b[0;32m      1\u001b[0m \u001b[1;32mfrom\u001b[0m \u001b[0mtransformers\u001b[0m \u001b[1;32mimport\u001b[0m \u001b[0mpipeline\u001b[0m\u001b[1;33m\u001b[0m\u001b[1;33m\u001b[0m\u001b[0m\n\u001b[0;32m      2\u001b[0m \u001b[1;33m\u001b[0m\u001b[0m\n\u001b[1;32m----> 3\u001b[1;33m \u001b[0msummarizer\u001b[0m \u001b[1;33m=\u001b[0m \u001b[0mpipeline\u001b[0m\u001b[1;33m(\u001b[0m\u001b[1;34m\"summarization\"\u001b[0m\u001b[1;33m,\u001b[0m \u001b[0mmodel\u001b[0m\u001b[1;33m=\u001b[0m\u001b[1;34m\"Callidior/bert2bert-base-arxiv-titlegen\"\u001b[0m\u001b[1;33m)\u001b[0m\u001b[1;33m\u001b[0m\u001b[1;33m\u001b[0m\u001b[0m\n\u001b[0m",
      "\u001b[1;32m~\\Anaconda3\\envs\\deepseer\\lib\\site-packages\\transformers\\pipelines\\__init__.py\u001b[0m in \u001b[0;36mpipeline\u001b[1;34m(task, model, config, tokenizer, feature_extractor, framework, revision, use_fast, use_auth_token, model_kwargs, **kwargs)\u001b[0m\n\u001b[0;32m    460\u001b[0m     \u001b[1;31m# Will load the correct model if possible\u001b[0m\u001b[1;33m\u001b[0m\u001b[1;33m\u001b[0m\u001b[1;33m\u001b[0m\u001b[0m\n\u001b[0;32m    461\u001b[0m     \u001b[0mmodel_classes\u001b[0m \u001b[1;33m=\u001b[0m \u001b[1;33m{\u001b[0m\u001b[1;34m\"tf\"\u001b[0m\u001b[1;33m:\u001b[0m \u001b[0mtargeted_task\u001b[0m\u001b[1;33m[\u001b[0m\u001b[1;34m\"tf\"\u001b[0m\u001b[1;33m]\u001b[0m\u001b[1;33m,\u001b[0m \u001b[1;34m\"pt\"\u001b[0m\u001b[1;33m:\u001b[0m \u001b[0mtargeted_task\u001b[0m\u001b[1;33m[\u001b[0m\u001b[1;34m\"pt\"\u001b[0m\u001b[1;33m]\u001b[0m\u001b[1;33m}\u001b[0m\u001b[1;33m\u001b[0m\u001b[1;33m\u001b[0m\u001b[0m\n\u001b[1;32m--> 462\u001b[1;33m     framework, model = infer_framework_load_model(\n\u001b[0m\u001b[0;32m    463\u001b[0m         \u001b[0mmodel\u001b[0m\u001b[1;33m,\u001b[0m\u001b[1;33m\u001b[0m\u001b[1;33m\u001b[0m\u001b[0m\n\u001b[0;32m    464\u001b[0m         \u001b[0mmodel_classes\u001b[0m\u001b[1;33m=\u001b[0m\u001b[0mmodel_classes\u001b[0m\u001b[1;33m,\u001b[0m\u001b[1;33m\u001b[0m\u001b[1;33m\u001b[0m\u001b[0m\n",
      "\u001b[1;32m~\\Anaconda3\\envs\\deepseer\\lib\\site-packages\\transformers\\pipelines\\base.py\u001b[0m in \u001b[0;36minfer_framework_load_model\u001b[1;34m(model, config, model_classes, task, framework, **model_kwargs)\u001b[0m\n\u001b[0;32m    149\u001b[0m \u001b[1;33m\u001b[0m\u001b[0m\n\u001b[0;32m    150\u001b[0m             \u001b[1;32mtry\u001b[0m\u001b[1;33m:\u001b[0m\u001b[1;33m\u001b[0m\u001b[1;33m\u001b[0m\u001b[0m\n\u001b[1;32m--> 151\u001b[1;33m                 \u001b[0mmodel\u001b[0m \u001b[1;33m=\u001b[0m \u001b[0mmodel_class\u001b[0m\u001b[1;33m.\u001b[0m\u001b[0mfrom_pretrained\u001b[0m\u001b[1;33m(\u001b[0m\u001b[0mmodel\u001b[0m\u001b[1;33m,\u001b[0m \u001b[1;33m**\u001b[0m\u001b[0mkwargs\u001b[0m\u001b[1;33m)\u001b[0m\u001b[1;33m\u001b[0m\u001b[1;33m\u001b[0m\u001b[0m\n\u001b[0m\u001b[0;32m    152\u001b[0m                 \u001b[1;32mif\u001b[0m \u001b[0mhasattr\u001b[0m\u001b[1;33m(\u001b[0m\u001b[0mmodel\u001b[0m\u001b[1;33m,\u001b[0m \u001b[1;34m\"eval\"\u001b[0m\u001b[1;33m)\u001b[0m\u001b[1;33m:\u001b[0m\u001b[1;33m\u001b[0m\u001b[1;33m\u001b[0m\u001b[0m\n\u001b[0;32m    153\u001b[0m                     \u001b[0mmodel\u001b[0m \u001b[1;33m=\u001b[0m \u001b[0mmodel\u001b[0m\u001b[1;33m.\u001b[0m\u001b[0meval\u001b[0m\u001b[1;33m(\u001b[0m\u001b[1;33m)\u001b[0m\u001b[1;33m\u001b[0m\u001b[1;33m\u001b[0m\u001b[0m\n",
      "\u001b[1;32m~\\Anaconda3\\envs\\deepseer\\lib\\site-packages\\transformers\\models\\auto\\auto_factory.py\u001b[0m in \u001b[0;36mfrom_pretrained\u001b[1;34m(cls, pretrained_model_name_or_path, *model_args, **kwargs)\u001b[0m\n\u001b[0;32m    417\u001b[0m         \u001b[1;32melif\u001b[0m \u001b[0mtype\u001b[0m\u001b[1;33m(\u001b[0m\u001b[0mconfig\u001b[0m\u001b[1;33m)\u001b[0m \u001b[1;32min\u001b[0m \u001b[0mcls\u001b[0m\u001b[1;33m.\u001b[0m\u001b[0m_model_mapping\u001b[0m\u001b[1;33m.\u001b[0m\u001b[0mkeys\u001b[0m\u001b[1;33m(\u001b[0m\u001b[1;33m)\u001b[0m\u001b[1;33m:\u001b[0m\u001b[1;33m\u001b[0m\u001b[1;33m\u001b[0m\u001b[0m\n\u001b[0;32m    418\u001b[0m             \u001b[0mmodel_class\u001b[0m \u001b[1;33m=\u001b[0m \u001b[0m_get_model_class\u001b[0m\u001b[1;33m(\u001b[0m\u001b[0mconfig\u001b[0m\u001b[1;33m,\u001b[0m \u001b[0mcls\u001b[0m\u001b[1;33m.\u001b[0m\u001b[0m_model_mapping\u001b[0m\u001b[1;33m)\u001b[0m\u001b[1;33m\u001b[0m\u001b[1;33m\u001b[0m\u001b[0m\n\u001b[1;32m--> 419\u001b[1;33m             \u001b[1;32mreturn\u001b[0m \u001b[0mmodel_class\u001b[0m\u001b[1;33m.\u001b[0m\u001b[0mfrom_pretrained\u001b[0m\u001b[1;33m(\u001b[0m\u001b[0mpretrained_model_name_or_path\u001b[0m\u001b[1;33m,\u001b[0m \u001b[1;33m*\u001b[0m\u001b[0mmodel_args\u001b[0m\u001b[1;33m,\u001b[0m \u001b[0mconfig\u001b[0m\u001b[1;33m=\u001b[0m\u001b[0mconfig\u001b[0m\u001b[1;33m,\u001b[0m \u001b[1;33m**\u001b[0m\u001b[0mkwargs\u001b[0m\u001b[1;33m)\u001b[0m\u001b[1;33m\u001b[0m\u001b[1;33m\u001b[0m\u001b[0m\n\u001b[0m\u001b[0;32m    420\u001b[0m         raise ValueError(\n\u001b[0;32m    421\u001b[0m             \u001b[1;34mf\"Unrecognized configuration class {config.__class__} for this kind of AutoModel: {cls.__name__}.\\n\"\u001b[0m\u001b[1;33m\u001b[0m\u001b[1;33m\u001b[0m\u001b[0m\n",
      "\u001b[1;32m~\\Anaconda3\\envs\\deepseer\\lib\\site-packages\\transformers\\models\\encoder_decoder\\modeling_encoder_decoder.py\u001b[0m in \u001b[0;36mfrom_pretrained\u001b[1;34m(cls, *args, **kwargs)\u001b[0m\n\u001b[0;32m    255\u001b[0m         \u001b[1;31m# for composite models\u001b[0m\u001b[1;33m\u001b[0m\u001b[1;33m\u001b[0m\u001b[1;33m\u001b[0m\u001b[0m\n\u001b[0;32m    256\u001b[0m         \u001b[0mkwargs\u001b[0m\u001b[1;33m[\u001b[0m\u001b[1;34m\"_fast_init\"\u001b[0m\u001b[1;33m]\u001b[0m \u001b[1;33m=\u001b[0m \u001b[1;32mFalse\u001b[0m\u001b[1;33m\u001b[0m\u001b[1;33m\u001b[0m\u001b[0m\n\u001b[1;32m--> 257\u001b[1;33m         \u001b[1;32mreturn\u001b[0m \u001b[0msuper\u001b[0m\u001b[1;33m(\u001b[0m\u001b[1;33m)\u001b[0m\u001b[1;33m.\u001b[0m\u001b[0mfrom_pretrained\u001b[0m\u001b[1;33m(\u001b[0m\u001b[1;33m*\u001b[0m\u001b[0margs\u001b[0m\u001b[1;33m,\u001b[0m \u001b[1;33m**\u001b[0m\u001b[0mkwargs\u001b[0m\u001b[1;33m)\u001b[0m\u001b[1;33m\u001b[0m\u001b[1;33m\u001b[0m\u001b[0m\n\u001b[0m\u001b[0;32m    258\u001b[0m \u001b[1;33m\u001b[0m\u001b[0m\n\u001b[0;32m    259\u001b[0m     \u001b[1;33m@\u001b[0m\u001b[0mclassmethod\u001b[0m\u001b[1;33m\u001b[0m\u001b[1;33m\u001b[0m\u001b[0m\n",
      "\u001b[1;32m~\\Anaconda3\\envs\\deepseer\\lib\\site-packages\\transformers\\modeling_utils.py\u001b[0m in \u001b[0;36mfrom_pretrained\u001b[1;34m(cls, pretrained_model_name_or_path, *model_args, **kwargs)\u001b[0m\n\u001b[0;32m   1311\u001b[0m             \u001b[1;32mtry\u001b[0m\u001b[1;33m:\u001b[0m\u001b[1;33m\u001b[0m\u001b[1;33m\u001b[0m\u001b[0m\n\u001b[0;32m   1312\u001b[0m                 \u001b[1;31m# Load from URL or cache if already cached\u001b[0m\u001b[1;33m\u001b[0m\u001b[1;33m\u001b[0m\u001b[1;33m\u001b[0m\u001b[0m\n\u001b[1;32m-> 1313\u001b[1;33m                 resolved_archive_file = cached_path(\n\u001b[0m\u001b[0;32m   1314\u001b[0m                     \u001b[0marchive_file\u001b[0m\u001b[1;33m,\u001b[0m\u001b[1;33m\u001b[0m\u001b[1;33m\u001b[0m\u001b[0m\n\u001b[0;32m   1315\u001b[0m                     \u001b[0mcache_dir\u001b[0m\u001b[1;33m=\u001b[0m\u001b[0mcache_dir\u001b[0m\u001b[1;33m,\u001b[0m\u001b[1;33m\u001b[0m\u001b[1;33m\u001b[0m\u001b[0m\n",
      "\u001b[1;32m~\\Anaconda3\\envs\\deepseer\\lib\\site-packages\\transformers\\file_utils.py\u001b[0m in \u001b[0;36mcached_path\u001b[1;34m(url_or_filename, cache_dir, force_download, proxies, resume_download, user_agent, extract_compressed_file, force_extract, use_auth_token, local_files_only)\u001b[0m\n\u001b[0;32m   1489\u001b[0m     \u001b[1;32mif\u001b[0m \u001b[0mis_remote_url\u001b[0m\u001b[1;33m(\u001b[0m\u001b[0murl_or_filename\u001b[0m\u001b[1;33m)\u001b[0m\u001b[1;33m:\u001b[0m\u001b[1;33m\u001b[0m\u001b[1;33m\u001b[0m\u001b[0m\n\u001b[0;32m   1490\u001b[0m         \u001b[1;31m# URL, so get it from the cache (downloading if necessary)\u001b[0m\u001b[1;33m\u001b[0m\u001b[1;33m\u001b[0m\u001b[1;33m\u001b[0m\u001b[0m\n\u001b[1;32m-> 1491\u001b[1;33m         output_path = get_from_cache(\n\u001b[0m\u001b[0;32m   1492\u001b[0m             \u001b[0murl_or_filename\u001b[0m\u001b[1;33m,\u001b[0m\u001b[1;33m\u001b[0m\u001b[1;33m\u001b[0m\u001b[0m\n\u001b[0;32m   1493\u001b[0m             \u001b[0mcache_dir\u001b[0m\u001b[1;33m=\u001b[0m\u001b[0mcache_dir\u001b[0m\u001b[1;33m,\u001b[0m\u001b[1;33m\u001b[0m\u001b[1;33m\u001b[0m\u001b[0m\n",
      "\u001b[1;32m~\\Anaconda3\\envs\\deepseer\\lib\\site-packages\\transformers\\file_utils.py\u001b[0m in \u001b[0;36mget_from_cache\u001b[1;34m(url, cache_dir, force_download, proxies, etag_timeout, resume_download, user_agent, use_auth_token, local_files_only)\u001b[0m\n\u001b[0;32m   1753\u001b[0m             \u001b[0mlogger\u001b[0m\u001b[1;33m.\u001b[0m\u001b[0minfo\u001b[0m\u001b[1;33m(\u001b[0m\u001b[1;34mf\"{url} not found in cache or force_download set to True, downloading to {temp_file.name}\"\u001b[0m\u001b[1;33m)\u001b[0m\u001b[1;33m\u001b[0m\u001b[1;33m\u001b[0m\u001b[0m\n\u001b[0;32m   1754\u001b[0m \u001b[1;33m\u001b[0m\u001b[0m\n\u001b[1;32m-> 1755\u001b[1;33m             \u001b[0mhttp_get\u001b[0m\u001b[1;33m(\u001b[0m\u001b[0murl_to_download\u001b[0m\u001b[1;33m,\u001b[0m \u001b[0mtemp_file\u001b[0m\u001b[1;33m,\u001b[0m \u001b[0mproxies\u001b[0m\u001b[1;33m=\u001b[0m\u001b[0mproxies\u001b[0m\u001b[1;33m,\u001b[0m \u001b[0mresume_size\u001b[0m\u001b[1;33m=\u001b[0m\u001b[0mresume_size\u001b[0m\u001b[1;33m,\u001b[0m \u001b[0mheaders\u001b[0m\u001b[1;33m=\u001b[0m\u001b[0mheaders\u001b[0m\u001b[1;33m)\u001b[0m\u001b[1;33m\u001b[0m\u001b[1;33m\u001b[0m\u001b[0m\n\u001b[0m\u001b[0;32m   1756\u001b[0m \u001b[1;33m\u001b[0m\u001b[0m\n\u001b[0;32m   1757\u001b[0m         \u001b[0mlogger\u001b[0m\u001b[1;33m.\u001b[0m\u001b[0minfo\u001b[0m\u001b[1;33m(\u001b[0m\u001b[1;34mf\"storing {url} in cache at {cache_path}\"\u001b[0m\u001b[1;33m)\u001b[0m\u001b[1;33m\u001b[0m\u001b[1;33m\u001b[0m\u001b[0m\n",
      "\u001b[1;32m~\\Anaconda3\\envs\\deepseer\\lib\\site-packages\\transformers\\file_utils.py\u001b[0m in \u001b[0;36mhttp_get\u001b[1;34m(url, temp_file, proxies, resume_size, headers)\u001b[0m\n\u001b[0;32m   1612\u001b[0m         \u001b[0mdisable\u001b[0m\u001b[1;33m=\u001b[0m\u001b[0mbool\u001b[0m\u001b[1;33m(\u001b[0m\u001b[0mlogging\u001b[0m\u001b[1;33m.\u001b[0m\u001b[0mget_verbosity\u001b[0m\u001b[1;33m(\u001b[0m\u001b[1;33m)\u001b[0m \u001b[1;33m==\u001b[0m \u001b[0mlogging\u001b[0m\u001b[1;33m.\u001b[0m\u001b[0mNOTSET\u001b[0m\u001b[1;33m)\u001b[0m\u001b[1;33m,\u001b[0m\u001b[1;33m\u001b[0m\u001b[1;33m\u001b[0m\u001b[0m\n\u001b[0;32m   1613\u001b[0m     )\n\u001b[1;32m-> 1614\u001b[1;33m     \u001b[1;32mfor\u001b[0m \u001b[0mchunk\u001b[0m \u001b[1;32min\u001b[0m \u001b[0mr\u001b[0m\u001b[1;33m.\u001b[0m\u001b[0miter_content\u001b[0m\u001b[1;33m(\u001b[0m\u001b[0mchunk_size\u001b[0m\u001b[1;33m=\u001b[0m\u001b[1;36m1024\u001b[0m\u001b[1;33m)\u001b[0m\u001b[1;33m:\u001b[0m\u001b[1;33m\u001b[0m\u001b[1;33m\u001b[0m\u001b[0m\n\u001b[0m\u001b[0;32m   1615\u001b[0m         \u001b[1;32mif\u001b[0m \u001b[0mchunk\u001b[0m\u001b[1;33m:\u001b[0m  \u001b[1;31m# filter out keep-alive new chunks\u001b[0m\u001b[1;33m\u001b[0m\u001b[1;33m\u001b[0m\u001b[0m\n\u001b[0;32m   1616\u001b[0m             \u001b[0mprogress\u001b[0m\u001b[1;33m.\u001b[0m\u001b[0mupdate\u001b[0m\u001b[1;33m(\u001b[0m\u001b[0mlen\u001b[0m\u001b[1;33m(\u001b[0m\u001b[0mchunk\u001b[0m\u001b[1;33m)\u001b[0m\u001b[1;33m)\u001b[0m\u001b[1;33m\u001b[0m\u001b[1;33m\u001b[0m\u001b[0m\n",
      "\u001b[1;32m~\\Anaconda3\\envs\\deepseer\\lib\\site-packages\\requests\\models.py\u001b[0m in \u001b[0;36mgenerate\u001b[1;34m()\u001b[0m\n\u001b[0;32m    758\u001b[0m             \u001b[1;32mif\u001b[0m \u001b[0mhasattr\u001b[0m\u001b[1;33m(\u001b[0m\u001b[0mself\u001b[0m\u001b[1;33m.\u001b[0m\u001b[0mraw\u001b[0m\u001b[1;33m,\u001b[0m \u001b[1;34m'stream'\u001b[0m\u001b[1;33m)\u001b[0m\u001b[1;33m:\u001b[0m\u001b[1;33m\u001b[0m\u001b[1;33m\u001b[0m\u001b[0m\n\u001b[0;32m    759\u001b[0m                 \u001b[1;32mtry\u001b[0m\u001b[1;33m:\u001b[0m\u001b[1;33m\u001b[0m\u001b[1;33m\u001b[0m\u001b[0m\n\u001b[1;32m--> 760\u001b[1;33m                     \u001b[1;32mfor\u001b[0m \u001b[0mchunk\u001b[0m \u001b[1;32min\u001b[0m \u001b[0mself\u001b[0m\u001b[1;33m.\u001b[0m\u001b[0mraw\u001b[0m\u001b[1;33m.\u001b[0m\u001b[0mstream\u001b[0m\u001b[1;33m(\u001b[0m\u001b[0mchunk_size\u001b[0m\u001b[1;33m,\u001b[0m \u001b[0mdecode_content\u001b[0m\u001b[1;33m=\u001b[0m\u001b[1;32mTrue\u001b[0m\u001b[1;33m)\u001b[0m\u001b[1;33m:\u001b[0m\u001b[1;33m\u001b[0m\u001b[1;33m\u001b[0m\u001b[0m\n\u001b[0m\u001b[0;32m    761\u001b[0m                         \u001b[1;32myield\u001b[0m \u001b[0mchunk\u001b[0m\u001b[1;33m\u001b[0m\u001b[1;33m\u001b[0m\u001b[0m\n\u001b[0;32m    762\u001b[0m                 \u001b[1;32mexcept\u001b[0m \u001b[0mProtocolError\u001b[0m \u001b[1;32mas\u001b[0m \u001b[0me\u001b[0m\u001b[1;33m:\u001b[0m\u001b[1;33m\u001b[0m\u001b[1;33m\u001b[0m\u001b[0m\n",
      "\u001b[1;32m~\\Anaconda3\\envs\\deepseer\\lib\\site-packages\\urllib3\\response.py\u001b[0m in \u001b[0;36mstream\u001b[1;34m(self, amt, decode_content)\u001b[0m\n\u001b[0;32m    574\u001b[0m         \u001b[1;32melse\u001b[0m\u001b[1;33m:\u001b[0m\u001b[1;33m\u001b[0m\u001b[1;33m\u001b[0m\u001b[0m\n\u001b[0;32m    575\u001b[0m             \u001b[1;32mwhile\u001b[0m \u001b[1;32mnot\u001b[0m \u001b[0mis_fp_closed\u001b[0m\u001b[1;33m(\u001b[0m\u001b[0mself\u001b[0m\u001b[1;33m.\u001b[0m\u001b[0m_fp\u001b[0m\u001b[1;33m)\u001b[0m\u001b[1;33m:\u001b[0m\u001b[1;33m\u001b[0m\u001b[1;33m\u001b[0m\u001b[0m\n\u001b[1;32m--> 576\u001b[1;33m                 \u001b[0mdata\u001b[0m \u001b[1;33m=\u001b[0m \u001b[0mself\u001b[0m\u001b[1;33m.\u001b[0m\u001b[0mread\u001b[0m\u001b[1;33m(\u001b[0m\u001b[0mamt\u001b[0m\u001b[1;33m=\u001b[0m\u001b[0mamt\u001b[0m\u001b[1;33m,\u001b[0m \u001b[0mdecode_content\u001b[0m\u001b[1;33m=\u001b[0m\u001b[0mdecode_content\u001b[0m\u001b[1;33m)\u001b[0m\u001b[1;33m\u001b[0m\u001b[1;33m\u001b[0m\u001b[0m\n\u001b[0m\u001b[0;32m    577\u001b[0m \u001b[1;33m\u001b[0m\u001b[0m\n\u001b[0;32m    578\u001b[0m                 \u001b[1;32mif\u001b[0m \u001b[0mdata\u001b[0m\u001b[1;33m:\u001b[0m\u001b[1;33m\u001b[0m\u001b[1;33m\u001b[0m\u001b[0m\n",
      "\u001b[1;32m~\\Anaconda3\\envs\\deepseer\\lib\\site-packages\\urllib3\\response.py\u001b[0m in \u001b[0;36mread\u001b[1;34m(self, amt, decode_content, cache_content)\u001b[0m\n\u001b[0;32m    517\u001b[0m             \u001b[1;32melse\u001b[0m\u001b[1;33m:\u001b[0m\u001b[1;33m\u001b[0m\u001b[1;33m\u001b[0m\u001b[0m\n\u001b[0;32m    518\u001b[0m                 \u001b[0mcache_content\u001b[0m \u001b[1;33m=\u001b[0m \u001b[1;32mFalse\u001b[0m\u001b[1;33m\u001b[0m\u001b[1;33m\u001b[0m\u001b[0m\n\u001b[1;32m--> 519\u001b[1;33m                 \u001b[0mdata\u001b[0m \u001b[1;33m=\u001b[0m \u001b[0mself\u001b[0m\u001b[1;33m.\u001b[0m\u001b[0m_fp\u001b[0m\u001b[1;33m.\u001b[0m\u001b[0mread\u001b[0m\u001b[1;33m(\u001b[0m\u001b[0mamt\u001b[0m\u001b[1;33m)\u001b[0m \u001b[1;32mif\u001b[0m \u001b[1;32mnot\u001b[0m \u001b[0mfp_closed\u001b[0m \u001b[1;32melse\u001b[0m \u001b[1;34mb\"\"\u001b[0m\u001b[1;33m\u001b[0m\u001b[1;33m\u001b[0m\u001b[0m\n\u001b[0m\u001b[0;32m    520\u001b[0m                 if (\n\u001b[0;32m    521\u001b[0m                     \u001b[0mamt\u001b[0m \u001b[1;33m!=\u001b[0m \u001b[1;36m0\u001b[0m \u001b[1;32mand\u001b[0m \u001b[1;32mnot\u001b[0m \u001b[0mdata\u001b[0m\u001b[1;33m\u001b[0m\u001b[1;33m\u001b[0m\u001b[0m\n",
      "\u001b[1;32m~\\Anaconda3\\envs\\deepseer\\lib\\http\\client.py\u001b[0m in \u001b[0;36mread\u001b[1;34m(self, amt)\u001b[0m\n\u001b[0;32m    457\u001b[0m             \u001b[1;31m# Amount is given, implement using readinto\u001b[0m\u001b[1;33m\u001b[0m\u001b[1;33m\u001b[0m\u001b[1;33m\u001b[0m\u001b[0m\n\u001b[0;32m    458\u001b[0m             \u001b[0mb\u001b[0m \u001b[1;33m=\u001b[0m \u001b[0mbytearray\u001b[0m\u001b[1;33m(\u001b[0m\u001b[0mamt\u001b[0m\u001b[1;33m)\u001b[0m\u001b[1;33m\u001b[0m\u001b[1;33m\u001b[0m\u001b[0m\n\u001b[1;32m--> 459\u001b[1;33m             \u001b[0mn\u001b[0m \u001b[1;33m=\u001b[0m \u001b[0mself\u001b[0m\u001b[1;33m.\u001b[0m\u001b[0mreadinto\u001b[0m\u001b[1;33m(\u001b[0m\u001b[0mb\u001b[0m\u001b[1;33m)\u001b[0m\u001b[1;33m\u001b[0m\u001b[1;33m\u001b[0m\u001b[0m\n\u001b[0m\u001b[0;32m    460\u001b[0m             \u001b[1;32mreturn\u001b[0m \u001b[0mmemoryview\u001b[0m\u001b[1;33m(\u001b[0m\u001b[0mb\u001b[0m\u001b[1;33m)\u001b[0m\u001b[1;33m[\u001b[0m\u001b[1;33m:\u001b[0m\u001b[0mn\u001b[0m\u001b[1;33m]\u001b[0m\u001b[1;33m.\u001b[0m\u001b[0mtobytes\u001b[0m\u001b[1;33m(\u001b[0m\u001b[1;33m)\u001b[0m\u001b[1;33m\u001b[0m\u001b[1;33m\u001b[0m\u001b[0m\n\u001b[0;32m    461\u001b[0m         \u001b[1;32melse\u001b[0m\u001b[1;33m:\u001b[0m\u001b[1;33m\u001b[0m\u001b[1;33m\u001b[0m\u001b[0m\n",
      "\u001b[1;32m~\\Anaconda3\\envs\\deepseer\\lib\\http\\client.py\u001b[0m in \u001b[0;36mreadinto\u001b[1;34m(self, b)\u001b[0m\n\u001b[0;32m    501\u001b[0m         \u001b[1;31m# connection, and the user is reading more bytes than will be provided\u001b[0m\u001b[1;33m\u001b[0m\u001b[1;33m\u001b[0m\u001b[1;33m\u001b[0m\u001b[0m\n\u001b[0;32m    502\u001b[0m         \u001b[1;31m# (for example, reading in 1k chunks)\u001b[0m\u001b[1;33m\u001b[0m\u001b[1;33m\u001b[0m\u001b[1;33m\u001b[0m\u001b[0m\n\u001b[1;32m--> 503\u001b[1;33m         \u001b[0mn\u001b[0m \u001b[1;33m=\u001b[0m \u001b[0mself\u001b[0m\u001b[1;33m.\u001b[0m\u001b[0mfp\u001b[0m\u001b[1;33m.\u001b[0m\u001b[0mreadinto\u001b[0m\u001b[1;33m(\u001b[0m\u001b[0mb\u001b[0m\u001b[1;33m)\u001b[0m\u001b[1;33m\u001b[0m\u001b[1;33m\u001b[0m\u001b[0m\n\u001b[0m\u001b[0;32m    504\u001b[0m         \u001b[1;32mif\u001b[0m \u001b[1;32mnot\u001b[0m \u001b[0mn\u001b[0m \u001b[1;32mand\u001b[0m \u001b[0mb\u001b[0m\u001b[1;33m:\u001b[0m\u001b[1;33m\u001b[0m\u001b[1;33m\u001b[0m\u001b[0m\n\u001b[0;32m    505\u001b[0m             \u001b[1;31m# Ideally, we would raise IncompleteRead if the content-length\u001b[0m\u001b[1;33m\u001b[0m\u001b[1;33m\u001b[0m\u001b[1;33m\u001b[0m\u001b[0m\n",
      "\u001b[1;32m~\\Anaconda3\\envs\\deepseer\\lib\\socket.py\u001b[0m in \u001b[0;36mreadinto\u001b[1;34m(self, b)\u001b[0m\n\u001b[0;32m    667\u001b[0m         \u001b[1;32mwhile\u001b[0m \u001b[1;32mTrue\u001b[0m\u001b[1;33m:\u001b[0m\u001b[1;33m\u001b[0m\u001b[1;33m\u001b[0m\u001b[0m\n\u001b[0;32m    668\u001b[0m             \u001b[1;32mtry\u001b[0m\u001b[1;33m:\u001b[0m\u001b[1;33m\u001b[0m\u001b[1;33m\u001b[0m\u001b[0m\n\u001b[1;32m--> 669\u001b[1;33m                 \u001b[1;32mreturn\u001b[0m \u001b[0mself\u001b[0m\u001b[1;33m.\u001b[0m\u001b[0m_sock\u001b[0m\u001b[1;33m.\u001b[0m\u001b[0mrecv_into\u001b[0m\u001b[1;33m(\u001b[0m\u001b[0mb\u001b[0m\u001b[1;33m)\u001b[0m\u001b[1;33m\u001b[0m\u001b[1;33m\u001b[0m\u001b[0m\n\u001b[0m\u001b[0;32m    670\u001b[0m             \u001b[1;32mexcept\u001b[0m \u001b[0mtimeout\u001b[0m\u001b[1;33m:\u001b[0m\u001b[1;33m\u001b[0m\u001b[1;33m\u001b[0m\u001b[0m\n\u001b[0;32m    671\u001b[0m                 \u001b[0mself\u001b[0m\u001b[1;33m.\u001b[0m\u001b[0m_timeout_occurred\u001b[0m \u001b[1;33m=\u001b[0m \u001b[1;32mTrue\u001b[0m\u001b[1;33m\u001b[0m\u001b[1;33m\u001b[0m\u001b[0m\n",
      "\u001b[1;32m~\\Anaconda3\\envs\\deepseer\\lib\\ssl.py\u001b[0m in \u001b[0;36mrecv_into\u001b[1;34m(self, buffer, nbytes, flags)\u001b[0m\n\u001b[0;32m   1239\u001b[0m                   \u001b[1;34m\"non-zero flags not allowed in calls to recv_into() on %s\"\u001b[0m \u001b[1;33m%\u001b[0m\u001b[1;33m\u001b[0m\u001b[1;33m\u001b[0m\u001b[0m\n\u001b[0;32m   1240\u001b[0m                   self.__class__)\n\u001b[1;32m-> 1241\u001b[1;33m             \u001b[1;32mreturn\u001b[0m \u001b[0mself\u001b[0m\u001b[1;33m.\u001b[0m\u001b[0mread\u001b[0m\u001b[1;33m(\u001b[0m\u001b[0mnbytes\u001b[0m\u001b[1;33m,\u001b[0m \u001b[0mbuffer\u001b[0m\u001b[1;33m)\u001b[0m\u001b[1;33m\u001b[0m\u001b[1;33m\u001b[0m\u001b[0m\n\u001b[0m\u001b[0;32m   1242\u001b[0m         \u001b[1;32melse\u001b[0m\u001b[1;33m:\u001b[0m\u001b[1;33m\u001b[0m\u001b[1;33m\u001b[0m\u001b[0m\n\u001b[0;32m   1243\u001b[0m             \u001b[1;32mreturn\u001b[0m \u001b[0msuper\u001b[0m\u001b[1;33m(\u001b[0m\u001b[1;33m)\u001b[0m\u001b[1;33m.\u001b[0m\u001b[0mrecv_into\u001b[0m\u001b[1;33m(\u001b[0m\u001b[0mbuffer\u001b[0m\u001b[1;33m,\u001b[0m \u001b[0mnbytes\u001b[0m\u001b[1;33m,\u001b[0m \u001b[0mflags\u001b[0m\u001b[1;33m)\u001b[0m\u001b[1;33m\u001b[0m\u001b[1;33m\u001b[0m\u001b[0m\n",
      "\u001b[1;32m~\\Anaconda3\\envs\\deepseer\\lib\\ssl.py\u001b[0m in \u001b[0;36mread\u001b[1;34m(self, len, buffer)\u001b[0m\n\u001b[0;32m   1097\u001b[0m         \u001b[1;32mtry\u001b[0m\u001b[1;33m:\u001b[0m\u001b[1;33m\u001b[0m\u001b[1;33m\u001b[0m\u001b[0m\n\u001b[0;32m   1098\u001b[0m             \u001b[1;32mif\u001b[0m \u001b[0mbuffer\u001b[0m \u001b[1;32mis\u001b[0m \u001b[1;32mnot\u001b[0m \u001b[1;32mNone\u001b[0m\u001b[1;33m:\u001b[0m\u001b[1;33m\u001b[0m\u001b[1;33m\u001b[0m\u001b[0m\n\u001b[1;32m-> 1099\u001b[1;33m                 \u001b[1;32mreturn\u001b[0m \u001b[0mself\u001b[0m\u001b[1;33m.\u001b[0m\u001b[0m_sslobj\u001b[0m\u001b[1;33m.\u001b[0m\u001b[0mread\u001b[0m\u001b[1;33m(\u001b[0m\u001b[0mlen\u001b[0m\u001b[1;33m,\u001b[0m \u001b[0mbuffer\u001b[0m\u001b[1;33m)\u001b[0m\u001b[1;33m\u001b[0m\u001b[1;33m\u001b[0m\u001b[0m\n\u001b[0m\u001b[0;32m   1100\u001b[0m             \u001b[1;32melse\u001b[0m\u001b[1;33m:\u001b[0m\u001b[1;33m\u001b[0m\u001b[1;33m\u001b[0m\u001b[0m\n\u001b[0;32m   1101\u001b[0m                 \u001b[1;32mreturn\u001b[0m \u001b[0mself\u001b[0m\u001b[1;33m.\u001b[0m\u001b[0m_sslobj\u001b[0m\u001b[1;33m.\u001b[0m\u001b[0mread\u001b[0m\u001b[1;33m(\u001b[0m\u001b[0mlen\u001b[0m\u001b[1;33m)\u001b[0m\u001b[1;33m\u001b[0m\u001b[1;33m\u001b[0m\u001b[0m\n",
      "\u001b[1;31mKeyboardInterrupt\u001b[0m: "
     ]
    }
   ],
   "source": [
    "from transformers import pipeline\n",
    "\n",
    "summarizer = pipeline(\"summarization\", model=\"Callidior/bert2bert-base-arxiv-titlegen\")"
   ]
  },
  {
   "cell_type": "code",
   "execution_count": null,
   "metadata": {},
   "outputs": [],
   "source": [
    "def sample_rule(rule, tfidf_matrix, dct, num_values_to_print=None):\n",
    "   \n",
    "    rule_tokens = [[dct.token2id[t] for t in r] for r in rule]\n",
    "    matches = np.hstack([tfidf_matrix[:, rt].prod(axis=1) for rt in rule_tokens]).sum(axis=1).A.ravel().astype(bool)    \n",
    "    tweets = df.preprocessed_text.values[matches]\n",
    "    \n",
    "    if num_values_to_print:\n",
    "        num_values_to_print = min(len(tweets), num_values_to_print)\n",
    "    else:\n",
    "        num_values_to_print = len(tweets)\n",
    "    \n",
    "    tweets = np.random.choice(tweets, size=num_values_to_print, replace=False)\n",
    "    \n",
    "    return \".\".join(tweets)"
   ]
  },
  {
   "cell_type": "code",
   "execution_count": null,
   "metadata": {},
   "outputs": [],
   "source": [
    "rule_id = 1"
   ]
  },
  {
   "cell_type": "code",
   "execution_count": null,
   "metadata": {},
   "outputs": [],
   "source": [
    "rules[rule_id]"
   ]
  },
  {
   "cell_type": "code",
   "execution_count": null,
   "metadata": {},
   "outputs": [],
   "source": [
    "text = sample_rule(rules[rule_id], M, dct, num_values_to_print=20)\n",
    "text"
   ]
  },
  {
   "cell_type": "code",
   "execution_count": 172,
   "metadata": {},
   "outputs": [],
   "source": [
    "text = \"The dominant sequence transduction models are based on complex recurrent or convolutional neural networks in an encoder-decoder configuration. The best performing models also connect the encoder and decoder through an attention mechanism. We propose a new simple network architecture, the Transformer, based solely on attention mechanisms, dispensing with recurrence and convolutions entirely. Experiments on two machine translation tasks show these models to be superior in quality while being more parallelizable and requiring significantly less time to train. Our model achieves 28.4 BLEU on the WMT 2014 English-to-German translation task, improving over the existing best results, including ensembles by over 2 BLEU. On the WMT 2014 English-to-French translation task, our model establishes a new single-model state-of-the-art BLEU score of 41.8 after training for 3.5 days on eight GPUs, a small fraction of the training costs of the best models from the literature. We show that the Transformer generalizes well to other tasks by applying it successfully to English constituency parsing both with large and limited training data.\""
   ]
  },
  {
   "cell_type": "code",
   "execution_count": 173,
   "metadata": {},
   "outputs": [
    {
     "ename": "NameError",
     "evalue": "name 'summarizer' is not defined",
     "output_type": "error",
     "traceback": [
      "\u001b[1;31m---------------------------------------------------------------------------\u001b[0m",
      "\u001b[1;31mNameError\u001b[0m                                 Traceback (most recent call last)",
      "\u001b[1;32m~\\AppData\\Local\\Temp\\ipykernel_996\\2692852032.py\u001b[0m in \u001b[0;36m<module>\u001b[1;34m\u001b[0m\n\u001b[1;32m----> 1\u001b[1;33m summarizer(\n\u001b[0m\u001b[0;32m      2\u001b[0m     \u001b[1;33m[\u001b[0m\u001b[0mtext\u001b[0m\u001b[1;33m]\u001b[0m\u001b[1;33m,\u001b[0m\u001b[1;33m\u001b[0m\u001b[1;33m\u001b[0m\u001b[0m\n\u001b[0;32m      3\u001b[0m     \u001b[0mmax_length\u001b[0m\u001b[1;33m=\u001b[0m\u001b[1;36m20\u001b[0m\u001b[1;33m,\u001b[0m\u001b[1;33m\u001b[0m\u001b[1;33m\u001b[0m\u001b[0m\n\u001b[0;32m      4\u001b[0m     \u001b[0mmin_length\u001b[0m\u001b[1;33m=\u001b[0m\u001b[1;36m10\u001b[0m\u001b[1;33m,\u001b[0m\u001b[1;33m\u001b[0m\u001b[1;33m\u001b[0m\u001b[0m\n\u001b[0;32m      5\u001b[0m     \u001b[0mdo_sample\u001b[0m\u001b[1;33m=\u001b[0m\u001b[1;32mFalse\u001b[0m\u001b[1;33m\u001b[0m\u001b[1;33m\u001b[0m\u001b[0m\n",
      "\u001b[1;31mNameError\u001b[0m: name 'summarizer' is not defined"
     ]
    }
   ],
   "source": [
    "summarizer(\n",
    "    [text], \n",
    "    max_length=20, \n",
    "    min_length=10, \n",
    "    do_sample=False\n",
    ")"
   ]
  },
  {
   "cell_type": "markdown",
   "metadata": {},
   "source": [
    "## Parent -> Child Relationships"
   ]
  },
  {
   "cell_type": "code",
   "execution_count": 211,
   "metadata": {},
   "outputs": [],
   "source": [
    "# for n_i in range(narrative_G.number_of_nodes()):\n",
    "#     for e_ij in narrative_G.edges(n_i):\n",
    "#         n_j = e_ij[1]\n",
    "#         if narrative_G.edges[e_ij]['weight'] > 0.75 and not narrative_G.has_edge(n_j, n_i):\n",
    "#             #narrative_G.edges[e_ij]['relationship'] = 'Parent'\n",
    "#             narrative_G.edges[e_ij]['relationship'] = 'Red'\n",
    "#         elif narrative_G.has_edge(n_j, n_i):\n",
    "#             #narrative_G.edges[e_ij]['relationship'] = 'Similar'\n",
    "#             narrative_G.edges[e_ij]['relationship'] = 'Blue'\n",
    "#         else:\n",
    "#             #narrative_G.edges[e_ij]['relationship'] = 'None'\n",
    "#             narrative_G.edges[e_ij]['relationship'] = 'Yellow'"
   ]
  },
  {
   "cell_type": "code",
   "execution_count": 212,
   "metadata": {},
   "outputs": [
    {
     "name": "stderr",
     "output_type": "stream",
     "text": [
      "100%|█████████████████████████████████████████████████████████████████████████████████████████████████████████████████████| 20/20 [00:00<00:00, 1428.70it/s]\n"
     ]
    },
    {
     "name": "stdout",
     "output_type": "stream",
     "text": [
      "BarnesHut Approximation  took  0.00  seconds\n",
      "Repulsion forces  took  0.01  seconds\n",
      "Gravitational forces  took  0.00  seconds\n",
      "Attraction forces  took  0.00  seconds\n",
      "AdjustSpeedAndApplyForces step  took  0.00  seconds\n"
     ]
    },
    {
     "data": {
      "image/png": "[encoded data removed]",
      "text/plain": [
       "<Figure size 720x720 with 1 Axes>"
      ]
     },
     "metadata": {},
     "output_type": "display_data"
    }
   ],
   "source": [
    "# # Draw the network as a graph\n",
    "# from fa2 import ForceAtlas2\n",
    "\n",
    "# plt.figure(figsize=(10,10))\n",
    "\n",
    "# forceatlas2 = ForceAtlas2(\n",
    "#     # Behavior alternatives\n",
    "#     outboundAttractionDistribution=False,  # Dissuade hubs\n",
    "#     linLogMode=False,  # NOT IMPLEMENTED\n",
    "#     adjustSizes=False,  # Prevent overlap (NOT IMPLEMENTED)\n",
    "#     edgeWeightInfluence=1.0,\n",
    "\n",
    "#     # Performance\n",
    "#     jitterTolerance=1.0,  # Tolerance\n",
    "#     barnesHutOptimize=True,\n",
    "#     barnesHutTheta=1.2,\n",
    "#     multiThreaded=False,  # NOT IMPLEMENTED\n",
    "\n",
    "#     # Tuning\n",
    "#     scalingRatio=2.0,\n",
    "#     strongGravityMode=False,\n",
    "#     gravity=1.0,\n",
    "\n",
    "#     # Log\n",
    "#     verbose=True)\n",
    "\n",
    "# positions = forceatlas2.forceatlas2_networkx_layout(narrative_G, pos=None, iterations=20)\n",
    "\n",
    "# nx.draw(\n",
    "#     narrative_G, \n",
    "#     pos=positions,\n",
    "#     labels=nx.get_node_attributes(narrative_G, 'rule'),\n",
    "#     edge_color=[narrative_G.edges[e]['relationship'] for e in narrative_G.edges],\n",
    "#     #edge_cmap=plt.cm.Greys,\n",
    "#     width=5,\n",
    "#     #node_color=[block_A[n,n] for n in range(block_G.number_of_nodes())],\n",
    "#     cmap=plt.cm.Greys\n",
    "# )"
   ]
  },
  {
   "cell_type": "code",
   "execution_count": null,
   "metadata": {},
   "outputs": [],
   "source": []
  }
 ],
 "metadata": {
  "kernelspec": {
   "display_name": "Python 3 (ipykernel)",
   "language": "python",
   "name": "python3"
  },
  "language_info": {
   "codemirror_mode": {
    "name": "ipython",
    "version": 3
   },
   "file_extension": ".py",
   "mimetype": "text/x-python",
   "name": "python",
   "nbconvert_exporter": "python",
   "pygments_lexer": "ipython3",
   "version": "3.9.13"
  }
 },
 "nbformat": 4,
 "nbformat_minor": 4
}
